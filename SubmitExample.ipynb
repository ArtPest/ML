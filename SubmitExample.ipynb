{
  "cells": [
    {
      "cell_type": "markdown",
      "id": "397684f7-1caa-46c7-aa83-f6ad5e5bcf7d",
      "metadata": {
        "id": "397684f7-1caa-46c7-aa83-f6ad5e5bcf7d"
      },
      "source": [
        "## Sumbit example"
      ]
    },
    {
      "cell_type": "code",
      "execution_count": 1,
      "id": "d4c64769-808c-4dac-966d-576b40303b36",
      "metadata": {
        "id": "d4c64769-808c-4dac-966d-576b40303b36"
      },
      "outputs": [],
      "source": [
        "import pandas as pd\n",
        "import numpy as np"
      ]
    },
    {
      "cell_type": "code",
      "source": [
        "from google.colab import files\n",
        "\n",
        "uploaded = files.upload()\n",
        "\n",
        "data = pd.read_csv('train.csv')"
      ],
      "metadata": {
        "id": "wTh_KuJchGyw",
        "colab": {
          "base_uri": "https://localhost:8080/",
          "height": 74
        },
        "outputId": "b772a958-25af-451b-ebb9-b92d1887558f"
      },
      "id": "wTh_KuJchGyw",
      "execution_count": 2,
      "outputs": [
        {
          "output_type": "display_data",
          "data": {
            "text/plain": [
              "<IPython.core.display.HTML object>"
            ],
            "text/html": [
              "\n",
              "     <input type=\"file\" id=\"files-4572107f-ce76-467d-a7f0-1dd4f591cf96\" name=\"files[]\" multiple disabled\n",
              "        style=\"border:none\" />\n",
              "     <output id=\"result-4572107f-ce76-467d-a7f0-1dd4f591cf96\">\n",
              "      Upload widget is only available when the cell has been executed in the\n",
              "      current browser session. Please rerun this cell to enable.\n",
              "      </output>\n",
              "      <script>// Copyright 2017 Google LLC\n",
              "//\n",
              "// Licensed under the Apache License, Version 2.0 (the \"License\");\n",
              "// you may not use this file except in compliance with the License.\n",
              "// You may obtain a copy of the License at\n",
              "//\n",
              "//      http://www.apache.org/licenses/LICENSE-2.0\n",
              "//\n",
              "// Unless required by applicable law or agreed to in writing, software\n",
              "// distributed under the License is distributed on an \"AS IS\" BASIS,\n",
              "// WITHOUT WARRANTIES OR CONDITIONS OF ANY KIND, either express or implied.\n",
              "// See the License for the specific language governing permissions and\n",
              "// limitations under the License.\n",
              "\n",
              "/**\n",
              " * @fileoverview Helpers for google.colab Python module.\n",
              " */\n",
              "(function(scope) {\n",
              "function span(text, styleAttributes = {}) {\n",
              "  const element = document.createElement('span');\n",
              "  element.textContent = text;\n",
              "  for (const key of Object.keys(styleAttributes)) {\n",
              "    element.style[key] = styleAttributes[key];\n",
              "  }\n",
              "  return element;\n",
              "}\n",
              "\n",
              "// Max number of bytes which will be uploaded at a time.\n",
              "const MAX_PAYLOAD_SIZE = 100 * 1024;\n",
              "\n",
              "function _uploadFiles(inputId, outputId) {\n",
              "  const steps = uploadFilesStep(inputId, outputId);\n",
              "  const outputElement = document.getElementById(outputId);\n",
              "  // Cache steps on the outputElement to make it available for the next call\n",
              "  // to uploadFilesContinue from Python.\n",
              "  outputElement.steps = steps;\n",
              "\n",
              "  return _uploadFilesContinue(outputId);\n",
              "}\n",
              "\n",
              "// This is roughly an async generator (not supported in the browser yet),\n",
              "// where there are multiple asynchronous steps and the Python side is going\n",
              "// to poll for completion of each step.\n",
              "// This uses a Promise to block the python side on completion of each step,\n",
              "// then passes the result of the previous step as the input to the next step.\n",
              "function _uploadFilesContinue(outputId) {\n",
              "  const outputElement = document.getElementById(outputId);\n",
              "  const steps = outputElement.steps;\n",
              "\n",
              "  const next = steps.next(outputElement.lastPromiseValue);\n",
              "  return Promise.resolve(next.value.promise).then((value) => {\n",
              "    // Cache the last promise value to make it available to the next\n",
              "    // step of the generator.\n",
              "    outputElement.lastPromiseValue = value;\n",
              "    return next.value.response;\n",
              "  });\n",
              "}\n",
              "\n",
              "/**\n",
              " * Generator function which is called between each async step of the upload\n",
              " * process.\n",
              " * @param {string} inputId Element ID of the input file picker element.\n",
              " * @param {string} outputId Element ID of the output display.\n",
              " * @return {!Iterable<!Object>} Iterable of next steps.\n",
              " */\n",
              "function* uploadFilesStep(inputId, outputId) {\n",
              "  const inputElement = document.getElementById(inputId);\n",
              "  inputElement.disabled = false;\n",
              "\n",
              "  const outputElement = document.getElementById(outputId);\n",
              "  outputElement.innerHTML = '';\n",
              "\n",
              "  const pickedPromise = new Promise((resolve) => {\n",
              "    inputElement.addEventListener('change', (e) => {\n",
              "      resolve(e.target.files);\n",
              "    });\n",
              "  });\n",
              "\n",
              "  const cancel = document.createElement('button');\n",
              "  inputElement.parentElement.appendChild(cancel);\n",
              "  cancel.textContent = 'Cancel upload';\n",
              "  const cancelPromise = new Promise((resolve) => {\n",
              "    cancel.onclick = () => {\n",
              "      resolve(null);\n",
              "    };\n",
              "  });\n",
              "\n",
              "  // Wait for the user to pick the files.\n",
              "  const files = yield {\n",
              "    promise: Promise.race([pickedPromise, cancelPromise]),\n",
              "    response: {\n",
              "      action: 'starting',\n",
              "    }\n",
              "  };\n",
              "\n",
              "  cancel.remove();\n",
              "\n",
              "  // Disable the input element since further picks are not allowed.\n",
              "  inputElement.disabled = true;\n",
              "\n",
              "  if (!files) {\n",
              "    return {\n",
              "      response: {\n",
              "        action: 'complete',\n",
              "      }\n",
              "    };\n",
              "  }\n",
              "\n",
              "  for (const file of files) {\n",
              "    const li = document.createElement('li');\n",
              "    li.append(span(file.name, {fontWeight: 'bold'}));\n",
              "    li.append(span(\n",
              "        `(${file.type || 'n/a'}) - ${file.size} bytes, ` +\n",
              "        `last modified: ${\n",
              "            file.lastModifiedDate ? file.lastModifiedDate.toLocaleDateString() :\n",
              "                                    'n/a'} - `));\n",
              "    const percent = span('0% done');\n",
              "    li.appendChild(percent);\n",
              "\n",
              "    outputElement.appendChild(li);\n",
              "\n",
              "    const fileDataPromise = new Promise((resolve) => {\n",
              "      const reader = new FileReader();\n",
              "      reader.onload = (e) => {\n",
              "        resolve(e.target.result);\n",
              "      };\n",
              "      reader.readAsArrayBuffer(file);\n",
              "    });\n",
              "    // Wait for the data to be ready.\n",
              "    let fileData = yield {\n",
              "      promise: fileDataPromise,\n",
              "      response: {\n",
              "        action: 'continue',\n",
              "      }\n",
              "    };\n",
              "\n",
              "    // Use a chunked sending to avoid message size limits. See b/62115660.\n",
              "    let position = 0;\n",
              "    do {\n",
              "      const length = Math.min(fileData.byteLength - position, MAX_PAYLOAD_SIZE);\n",
              "      const chunk = new Uint8Array(fileData, position, length);\n",
              "      position += length;\n",
              "\n",
              "      const base64 = btoa(String.fromCharCode.apply(null, chunk));\n",
              "      yield {\n",
              "        response: {\n",
              "          action: 'append',\n",
              "          file: file.name,\n",
              "          data: base64,\n",
              "        },\n",
              "      };\n",
              "\n",
              "      let percentDone = fileData.byteLength === 0 ?\n",
              "          100 :\n",
              "          Math.round((position / fileData.byteLength) * 100);\n",
              "      percent.textContent = `${percentDone}% done`;\n",
              "\n",
              "    } while (position < fileData.byteLength);\n",
              "  }\n",
              "\n",
              "  // All done.\n",
              "  yield {\n",
              "    response: {\n",
              "      action: 'complete',\n",
              "    }\n",
              "  };\n",
              "}\n",
              "\n",
              "scope.google = scope.google || {};\n",
              "scope.google.colab = scope.google.colab || {};\n",
              "scope.google.colab._files = {\n",
              "  _uploadFiles,\n",
              "  _uploadFilesContinue,\n",
              "};\n",
              "})(self);\n",
              "</script> "
            ]
          },
          "metadata": {}
        },
        {
          "output_type": "stream",
          "name": "stdout",
          "text": [
            "Saving train.csv to train (1).csv\n"
          ]
        }
      ]
    },
    {
      "cell_type": "code",
      "source": [
        "data.head()"
      ],
      "metadata": {
        "colab": {
          "base_uri": "https://localhost:8080/",
          "height": 206
        },
        "id": "jMAPdkIUi83z",
        "outputId": "05c3a914-7901-459c-ea5b-33eb4feca6e9"
      },
      "id": "jMAPdkIUi83z",
      "execution_count": 3,
      "outputs": [
        {
          "output_type": "execute_result",
          "data": {
            "text/plain": [
              "   Unnamed: 0            category     clicks     likes  buys  4xx_errors  \\\n",
              "0        6622                ecom  6488536.0       NaN     0       82221   \n",
              "1        2047  information_source   874840.0   21100.0     0       12872   \n",
              "2        1118  information_source   571210.0   94707.0     0           0   \n",
              "3        4992                news    89534.0     924.0     0         834   \n",
              "4        9970  information_source  1043953.0  289288.0     0       58375   \n",
              "\n",
              "   5xx_errors complaints_count  average_dwelltime  source_attractiveness  \\\n",
              "0           0                0          18.450527               0.461750   \n",
              "1           0                0          10.721619              -0.022317   \n",
              "2        7420                0           1.922243               0.046396   \n",
              "3           0                0           2.149243              -0.093360   \n",
              "4       20260             3948           3.764965               0.027303   \n",
              "\n",
              "            date_of_registration  \n",
              "0  2020-04-21 16:04:41.817367072  \n",
              "1  2024-07-19 23:50:07.268931816  \n",
              "2  2024-07-13 16:35:54.794883135  \n",
              "3  2024-09-10 21:29:14.006315095  \n",
              "4  2024-05-26 11:07:15.950527838  "
            ],
            "text/html": [
              "\n",
              "  <div id=\"df-c4d97d32-6717-4225-9596-ab7940e842eb\" class=\"colab-df-container\">\n",
              "    <div>\n",
              "<style scoped>\n",
              "    .dataframe tbody tr th:only-of-type {\n",
              "        vertical-align: middle;\n",
              "    }\n",
              "\n",
              "    .dataframe tbody tr th {\n",
              "        vertical-align: top;\n",
              "    }\n",
              "\n",
              "    .dataframe thead th {\n",
              "        text-align: right;\n",
              "    }\n",
              "</style>\n",
              "<table border=\"1\" class=\"dataframe\">\n",
              "  <thead>\n",
              "    <tr style=\"text-align: right;\">\n",
              "      <th></th>\n",
              "      <th>Unnamed: 0</th>\n",
              "      <th>category</th>\n",
              "      <th>clicks</th>\n",
              "      <th>likes</th>\n",
              "      <th>buys</th>\n",
              "      <th>4xx_errors</th>\n",
              "      <th>5xx_errors</th>\n",
              "      <th>complaints_count</th>\n",
              "      <th>average_dwelltime</th>\n",
              "      <th>source_attractiveness</th>\n",
              "      <th>date_of_registration</th>\n",
              "    </tr>\n",
              "  </thead>\n",
              "  <tbody>\n",
              "    <tr>\n",
              "      <th>0</th>\n",
              "      <td>6622</td>\n",
              "      <td>ecom</td>\n",
              "      <td>6488536.0</td>\n",
              "      <td>NaN</td>\n",
              "      <td>0</td>\n",
              "      <td>82221</td>\n",
              "      <td>0</td>\n",
              "      <td>0</td>\n",
              "      <td>18.450527</td>\n",
              "      <td>0.461750</td>\n",
              "      <td>2020-04-21 16:04:41.817367072</td>\n",
              "    </tr>\n",
              "    <tr>\n",
              "      <th>1</th>\n",
              "      <td>2047</td>\n",
              "      <td>information_source</td>\n",
              "      <td>874840.0</td>\n",
              "      <td>21100.0</td>\n",
              "      <td>0</td>\n",
              "      <td>12872</td>\n",
              "      <td>0</td>\n",
              "      <td>0</td>\n",
              "      <td>10.721619</td>\n",
              "      <td>-0.022317</td>\n",
              "      <td>2024-07-19 23:50:07.268931816</td>\n",
              "    </tr>\n",
              "    <tr>\n",
              "      <th>2</th>\n",
              "      <td>1118</td>\n",
              "      <td>information_source</td>\n",
              "      <td>571210.0</td>\n",
              "      <td>94707.0</td>\n",
              "      <td>0</td>\n",
              "      <td>0</td>\n",
              "      <td>7420</td>\n",
              "      <td>0</td>\n",
              "      <td>1.922243</td>\n",
              "      <td>0.046396</td>\n",
              "      <td>2024-07-13 16:35:54.794883135</td>\n",
              "    </tr>\n",
              "    <tr>\n",
              "      <th>3</th>\n",
              "      <td>4992</td>\n",
              "      <td>news</td>\n",
              "      <td>89534.0</td>\n",
              "      <td>924.0</td>\n",
              "      <td>0</td>\n",
              "      <td>834</td>\n",
              "      <td>0</td>\n",
              "      <td>0</td>\n",
              "      <td>2.149243</td>\n",
              "      <td>-0.093360</td>\n",
              "      <td>2024-09-10 21:29:14.006315095</td>\n",
              "    </tr>\n",
              "    <tr>\n",
              "      <th>4</th>\n",
              "      <td>9970</td>\n",
              "      <td>information_source</td>\n",
              "      <td>1043953.0</td>\n",
              "      <td>289288.0</td>\n",
              "      <td>0</td>\n",
              "      <td>58375</td>\n",
              "      <td>20260</td>\n",
              "      <td>3948</td>\n",
              "      <td>3.764965</td>\n",
              "      <td>0.027303</td>\n",
              "      <td>2024-05-26 11:07:15.950527838</td>\n",
              "    </tr>\n",
              "  </tbody>\n",
              "</table>\n",
              "</div>\n",
              "    <div class=\"colab-df-buttons\">\n",
              "\n",
              "  <div class=\"colab-df-container\">\n",
              "    <button class=\"colab-df-convert\" onclick=\"convertToInteractive('df-c4d97d32-6717-4225-9596-ab7940e842eb')\"\n",
              "            title=\"Convert this dataframe to an interactive table.\"\n",
              "            style=\"display:none;\">\n",
              "\n",
              "  <svg xmlns=\"http://www.w3.org/2000/svg\" height=\"24px\" viewBox=\"0 -960 960 960\">\n",
              "    <path d=\"M120-120v-720h720v720H120Zm60-500h600v-160H180v160Zm220 220h160v-160H400v160Zm0 220h160v-160H400v160ZM180-400h160v-160H180v160Zm440 0h160v-160H620v160ZM180-180h160v-160H180v160Zm440 0h160v-160H620v160Z\"/>\n",
              "  </svg>\n",
              "    </button>\n",
              "\n",
              "  <style>\n",
              "    .colab-df-container {\n",
              "      display:flex;\n",
              "      gap: 12px;\n",
              "    }\n",
              "\n",
              "    .colab-df-convert {\n",
              "      background-color: #E8F0FE;\n",
              "      border: none;\n",
              "      border-radius: 50%;\n",
              "      cursor: pointer;\n",
              "      display: none;\n",
              "      fill: #1967D2;\n",
              "      height: 32px;\n",
              "      padding: 0 0 0 0;\n",
              "      width: 32px;\n",
              "    }\n",
              "\n",
              "    .colab-df-convert:hover {\n",
              "      background-color: #E2EBFA;\n",
              "      box-shadow: 0px 1px 2px rgba(60, 64, 67, 0.3), 0px 1px 3px 1px rgba(60, 64, 67, 0.15);\n",
              "      fill: #174EA6;\n",
              "    }\n",
              "\n",
              "    .colab-df-buttons div {\n",
              "      margin-bottom: 4px;\n",
              "    }\n",
              "\n",
              "    [theme=dark] .colab-df-convert {\n",
              "      background-color: #3B4455;\n",
              "      fill: #D2E3FC;\n",
              "    }\n",
              "\n",
              "    [theme=dark] .colab-df-convert:hover {\n",
              "      background-color: #434B5C;\n",
              "      box-shadow: 0px 1px 3px 1px rgba(0, 0, 0, 0.15);\n",
              "      filter: drop-shadow(0px 1px 2px rgba(0, 0, 0, 0.3));\n",
              "      fill: #FFFFFF;\n",
              "    }\n",
              "  </style>\n",
              "\n",
              "    <script>\n",
              "      const buttonEl =\n",
              "        document.querySelector('#df-c4d97d32-6717-4225-9596-ab7940e842eb button.colab-df-convert');\n",
              "      buttonEl.style.display =\n",
              "        google.colab.kernel.accessAllowed ? 'block' : 'none';\n",
              "\n",
              "      async function convertToInteractive(key) {\n",
              "        const element = document.querySelector('#df-c4d97d32-6717-4225-9596-ab7940e842eb');\n",
              "        const dataTable =\n",
              "          await google.colab.kernel.invokeFunction('convertToInteractive',\n",
              "                                                    [key], {});\n",
              "        if (!dataTable) return;\n",
              "\n",
              "        const docLinkHtml = 'Like what you see? Visit the ' +\n",
              "          '<a target=\"_blank\" href=https://colab.research.google.com/notebooks/data_table.ipynb>data table notebook</a>'\n",
              "          + ' to learn more about interactive tables.';\n",
              "        element.innerHTML = '';\n",
              "        dataTable['output_type'] = 'display_data';\n",
              "        await google.colab.output.renderOutput(dataTable, element);\n",
              "        const docLink = document.createElement('div');\n",
              "        docLink.innerHTML = docLinkHtml;\n",
              "        element.appendChild(docLink);\n",
              "      }\n",
              "    </script>\n",
              "  </div>\n",
              "\n",
              "\n",
              "<div id=\"df-5771e96e-67a8-481c-a157-db94d0579729\">\n",
              "  <button class=\"colab-df-quickchart\" onclick=\"quickchart('df-5771e96e-67a8-481c-a157-db94d0579729')\"\n",
              "            title=\"Suggest charts\"\n",
              "            style=\"display:none;\">\n",
              "\n",
              "<svg xmlns=\"http://www.w3.org/2000/svg\" height=\"24px\"viewBox=\"0 0 24 24\"\n",
              "     width=\"24px\">\n",
              "    <g>\n",
              "        <path d=\"M19 3H5c-1.1 0-2 .9-2 2v14c0 1.1.9 2 2 2h14c1.1 0 2-.9 2-2V5c0-1.1-.9-2-2-2zM9 17H7v-7h2v7zm4 0h-2V7h2v10zm4 0h-2v-4h2v4z\"/>\n",
              "    </g>\n",
              "</svg>\n",
              "  </button>\n",
              "\n",
              "<style>\n",
              "  .colab-df-quickchart {\n",
              "      --bg-color: #E8F0FE;\n",
              "      --fill-color: #1967D2;\n",
              "      --hover-bg-color: #E2EBFA;\n",
              "      --hover-fill-color: #174EA6;\n",
              "      --disabled-fill-color: #AAA;\n",
              "      --disabled-bg-color: #DDD;\n",
              "  }\n",
              "\n",
              "  [theme=dark] .colab-df-quickchart {\n",
              "      --bg-color: #3B4455;\n",
              "      --fill-color: #D2E3FC;\n",
              "      --hover-bg-color: #434B5C;\n",
              "      --hover-fill-color: #FFFFFF;\n",
              "      --disabled-bg-color: #3B4455;\n",
              "      --disabled-fill-color: #666;\n",
              "  }\n",
              "\n",
              "  .colab-df-quickchart {\n",
              "    background-color: var(--bg-color);\n",
              "    border: none;\n",
              "    border-radius: 50%;\n",
              "    cursor: pointer;\n",
              "    display: none;\n",
              "    fill: var(--fill-color);\n",
              "    height: 32px;\n",
              "    padding: 0;\n",
              "    width: 32px;\n",
              "  }\n",
              "\n",
              "  .colab-df-quickchart:hover {\n",
              "    background-color: var(--hover-bg-color);\n",
              "    box-shadow: 0 1px 2px rgba(60, 64, 67, 0.3), 0 1px 3px 1px rgba(60, 64, 67, 0.15);\n",
              "    fill: var(--button-hover-fill-color);\n",
              "  }\n",
              "\n",
              "  .colab-df-quickchart-complete:disabled,\n",
              "  .colab-df-quickchart-complete:disabled:hover {\n",
              "    background-color: var(--disabled-bg-color);\n",
              "    fill: var(--disabled-fill-color);\n",
              "    box-shadow: none;\n",
              "  }\n",
              "\n",
              "  .colab-df-spinner {\n",
              "    border: 2px solid var(--fill-color);\n",
              "    border-color: transparent;\n",
              "    border-bottom-color: var(--fill-color);\n",
              "    animation:\n",
              "      spin 1s steps(1) infinite;\n",
              "  }\n",
              "\n",
              "  @keyframes spin {\n",
              "    0% {\n",
              "      border-color: transparent;\n",
              "      border-bottom-color: var(--fill-color);\n",
              "      border-left-color: var(--fill-color);\n",
              "    }\n",
              "    20% {\n",
              "      border-color: transparent;\n",
              "      border-left-color: var(--fill-color);\n",
              "      border-top-color: var(--fill-color);\n",
              "    }\n",
              "    30% {\n",
              "      border-color: transparent;\n",
              "      border-left-color: var(--fill-color);\n",
              "      border-top-color: var(--fill-color);\n",
              "      border-right-color: var(--fill-color);\n",
              "    }\n",
              "    40% {\n",
              "      border-color: transparent;\n",
              "      border-right-color: var(--fill-color);\n",
              "      border-top-color: var(--fill-color);\n",
              "    }\n",
              "    60% {\n",
              "      border-color: transparent;\n",
              "      border-right-color: var(--fill-color);\n",
              "    }\n",
              "    80% {\n",
              "      border-color: transparent;\n",
              "      border-right-color: var(--fill-color);\n",
              "      border-bottom-color: var(--fill-color);\n",
              "    }\n",
              "    90% {\n",
              "      border-color: transparent;\n",
              "      border-bottom-color: var(--fill-color);\n",
              "    }\n",
              "  }\n",
              "</style>\n",
              "\n",
              "  <script>\n",
              "    async function quickchart(key) {\n",
              "      const quickchartButtonEl =\n",
              "        document.querySelector('#' + key + ' button');\n",
              "      quickchartButtonEl.disabled = true;  // To prevent multiple clicks.\n",
              "      quickchartButtonEl.classList.add('colab-df-spinner');\n",
              "      try {\n",
              "        const charts = await google.colab.kernel.invokeFunction(\n",
              "            'suggestCharts', [key], {});\n",
              "      } catch (error) {\n",
              "        console.error('Error during call to suggestCharts:', error);\n",
              "      }\n",
              "      quickchartButtonEl.classList.remove('colab-df-spinner');\n",
              "      quickchartButtonEl.classList.add('colab-df-quickchart-complete');\n",
              "    }\n",
              "    (() => {\n",
              "      let quickchartButtonEl =\n",
              "        document.querySelector('#df-5771e96e-67a8-481c-a157-db94d0579729 button');\n",
              "      quickchartButtonEl.style.display =\n",
              "        google.colab.kernel.accessAllowed ? 'block' : 'none';\n",
              "    })();\n",
              "  </script>\n",
              "</div>\n",
              "    </div>\n",
              "  </div>\n"
            ],
            "application/vnd.google.colaboratory.intrinsic+json": {
              "type": "dataframe",
              "variable_name": "data",
              "summary": "{\n  \"name\": \"data\",\n  \"rows\": 8000,\n  \"fields\": [\n    {\n      \"column\": \"Unnamed: 0\",\n      \"properties\": {\n        \"dtype\": \"number\",\n        \"std\": 2893,\n        \"min\": 0,\n        \"max\": 9999,\n        \"num_unique_values\": 8000,\n        \"samples\": [\n          3314,\n          4506,\n          5445\n        ],\n        \"semantic_type\": \"\",\n        \"description\": \"\"\n      }\n    },\n    {\n      \"column\": \"category\",\n      \"properties\": {\n        \"dtype\": \"category\",\n        \"num_unique_values\": 5,\n        \"samples\": [\n          \"information_source\",\n          \"social\",\n          \"news\"\n        ],\n        \"semantic_type\": \"\",\n        \"description\": \"\"\n      }\n    },\n    {\n      \"column\": \"clicks\",\n      \"properties\": {\n        \"dtype\": \"number\",\n        \"std\": 4699119.939783889,\n        \"min\": 51.0,\n        \"max\": 62032065.0,\n        \"num_unique_values\": 7723,\n        \"samples\": [\n          1596885.0,\n          7817454.0,\n          205376.0\n        ],\n        \"semantic_type\": \"\",\n        \"description\": \"\"\n      }\n    },\n    {\n      \"column\": \"likes\",\n      \"properties\": {\n        \"dtype\": \"number\",\n        \"std\": 1978345.3178328334,\n        \"min\": 0.0,\n        \"max\": 55821812.0,\n        \"num_unique_values\": 5283,\n        \"samples\": [\n          17741.0,\n          7505.0,\n          242644.0\n        ],\n        \"semantic_type\": \"\",\n        \"description\": \"\"\n      }\n    },\n    {\n      \"column\": \"buys\",\n      \"properties\": {\n        \"dtype\": \"number\",\n        \"std\": 2262221,\n        \"min\": 0,\n        \"max\": 42773913,\n        \"num_unique_values\": 1605,\n        \"samples\": [\n          21369,\n          455158,\n          1337448\n        ],\n        \"semantic_type\": \"\",\n        \"description\": \"\"\n      }\n    },\n    {\n      \"column\": \"4xx_errors\",\n      \"properties\": {\n        \"dtype\": \"number\",\n        \"std\": 155521,\n        \"min\": 0,\n        \"max\": 2904996,\n        \"num_unique_values\": 6592,\n        \"samples\": [\n          114963,\n          343614,\n          39566\n        ],\n        \"semantic_type\": \"\",\n        \"description\": \"\"\n      }\n    },\n    {\n      \"column\": \"5xx_errors\",\n      \"properties\": {\n        \"dtype\": \"number\",\n        \"std\": 79469,\n        \"min\": 0,\n        \"max\": 1865588,\n        \"num_unique_values\": 3731,\n        \"samples\": [\n          497,\n          47347,\n          17052\n        ],\n        \"semantic_type\": \"\",\n        \"description\": \"\"\n      }\n    },\n    {\n      \"column\": \"complaints_count\",\n      \"properties\": {\n        \"dtype\": \"string\",\n        \"num_unique_values\": 4133,\n        \"samples\": [\n          \"4669\",\n          \"8497\",\n          \"1988\"\n        ],\n        \"semantic_type\": \"\",\n        \"description\": \"\"\n      }\n    },\n    {\n      \"column\": \"average_dwelltime\",\n      \"properties\": {\n        \"dtype\": \"number\",\n        \"std\": 10.00492407098839,\n        \"min\": -1.0,\n        \"max\": 211.2180664029132,\n        \"num_unique_values\": 7594,\n        \"samples\": [\n          5.959884537380768,\n          10.112499279897582,\n          24.997935648786147\n        ],\n        \"semantic_type\": \"\",\n        \"description\": \"\"\n      }\n    },\n    {\n      \"column\": \"source_attractiveness\",\n      \"properties\": {\n        \"dtype\": \"number\",\n        \"std\": 0.2278734320080574,\n        \"min\": -0.6817179442832678,\n        \"max\": 1.3557364805492955,\n        \"num_unique_values\": 8000,\n        \"samples\": [\n          0.0632486239400259,\n          0.237223928441249,\n          0.1491086162381296\n        ],\n        \"semantic_type\": \"\",\n        \"description\": \"\"\n      }\n    },\n    {\n      \"column\": \"date_of_registration\",\n      \"properties\": {\n        \"dtype\": \"object\",\n        \"num_unique_values\": 8000,\n        \"samples\": [\n          \"2023-11-12 09:51:12.435255488\",\n          \"2021-06-23 18:09:28.413287376\",\n          \"2023-11-21 16:21:16.812334104\"\n        ],\n        \"semantic_type\": \"\",\n        \"description\": \"\"\n      }\n    }\n  ]\n}"
            }
          },
          "metadata": {},
          "execution_count": 3
        }
      ]
    },
    {
      "cell_type": "markdown",
      "source": [
        "Есть категориальный признак. Линейная регрессия не может его обработать просто так."
      ],
      "metadata": {
        "id": "l-a8ZS0MkBKq"
      },
      "id": "l-a8ZS0MkBKq"
    },
    {
      "cell_type": "code",
      "source": [
        "from sklearn.preprocessing import OneHotEncoder"
      ],
      "metadata": {
        "id": "rAfCLsPYkhVE"
      },
      "id": "rAfCLsPYkhVE",
      "execution_count": 4,
      "outputs": []
    },
    {
      "cell_type": "code",
      "source": [
        "data['category'].unique()"
      ],
      "metadata": {
        "colab": {
          "base_uri": "https://localhost:8080/"
        },
        "id": "CFfJ8yFv4Uh6",
        "outputId": "6587eba4-03d1-446e-87af-a33c271068f0"
      },
      "id": "CFfJ8yFv4Uh6",
      "execution_count": 5,
      "outputs": [
        {
          "output_type": "execute_result",
          "data": {
            "text/plain": [
              "array(['ecom', 'information_source', 'news', 'porn', 'social'],\n",
              "      dtype=object)"
            ]
          },
          "metadata": {},
          "execution_count": 5
        }
      ]
    },
    {
      "cell_type": "code",
      "source": [
        "encoder = OneHotEncoder(sparse_output=False)\n",
        "encoder.fit(data[['category']])\n",
        "onehot_encoded = encoder.transform(data[['category']])\n",
        "onehot_df = pd.DataFrame(onehot_encoded, columns=encoder.categories_[0])\n",
        "data = data.join(onehot_df, lsuffix='old', rsuffix='new')\n",
        "data = data.drop('category', axis=1)"
      ],
      "metadata": {
        "id": "V_zdUK8EkGue"
      },
      "id": "V_zdUK8EkGue",
      "execution_count": 6,
      "outputs": []
    },
    {
      "cell_type": "code",
      "source": [
        "data.head()"
      ],
      "metadata": {
        "colab": {
          "base_uri": "https://localhost:8080/",
          "height": 330
        },
        "id": "tmxHWQfTk_sC",
        "outputId": "d99481ab-f058-450e-8fbf-f42904dda090"
      },
      "id": "tmxHWQfTk_sC",
      "execution_count": 7,
      "outputs": [
        {
          "output_type": "execute_result",
          "data": {
            "text/plain": [
              "   Unnamed: 0     clicks     likes  buys  4xx_errors  5xx_errors  \\\n",
              "0        6622  6488536.0       NaN     0       82221           0   \n",
              "1        2047   874840.0   21100.0     0       12872           0   \n",
              "2        1118   571210.0   94707.0     0           0        7420   \n",
              "3        4992    89534.0     924.0     0         834           0   \n",
              "4        9970  1043953.0  289288.0     0       58375       20260   \n",
              "\n",
              "  complaints_count  average_dwelltime  source_attractiveness  \\\n",
              "0                0          18.450527               0.461750   \n",
              "1                0          10.721619              -0.022317   \n",
              "2                0           1.922243               0.046396   \n",
              "3                0           2.149243              -0.093360   \n",
              "4             3948           3.764965               0.027303   \n",
              "\n",
              "            date_of_registration  ecom  information_source  news  porn  social  \n",
              "0  2020-04-21 16:04:41.817367072   1.0                 0.0   0.0   0.0     0.0  \n",
              "1  2024-07-19 23:50:07.268931816   0.0                 1.0   0.0   0.0     0.0  \n",
              "2  2024-07-13 16:35:54.794883135   0.0                 1.0   0.0   0.0     0.0  \n",
              "3  2024-09-10 21:29:14.006315095   0.0                 0.0   1.0   0.0     0.0  \n",
              "4  2024-05-26 11:07:15.950527838   0.0                 1.0   0.0   0.0     0.0  "
            ],
            "text/html": [
              "\n",
              "  <div id=\"df-5afa5da9-214c-4594-a3c5-c768038d4334\" class=\"colab-df-container\">\n",
              "    <div>\n",
              "<style scoped>\n",
              "    .dataframe tbody tr th:only-of-type {\n",
              "        vertical-align: middle;\n",
              "    }\n",
              "\n",
              "    .dataframe tbody tr th {\n",
              "        vertical-align: top;\n",
              "    }\n",
              "\n",
              "    .dataframe thead th {\n",
              "        text-align: right;\n",
              "    }\n",
              "</style>\n",
              "<table border=\"1\" class=\"dataframe\">\n",
              "  <thead>\n",
              "    <tr style=\"text-align: right;\">\n",
              "      <th></th>\n",
              "      <th>Unnamed: 0</th>\n",
              "      <th>clicks</th>\n",
              "      <th>likes</th>\n",
              "      <th>buys</th>\n",
              "      <th>4xx_errors</th>\n",
              "      <th>5xx_errors</th>\n",
              "      <th>complaints_count</th>\n",
              "      <th>average_dwelltime</th>\n",
              "      <th>source_attractiveness</th>\n",
              "      <th>date_of_registration</th>\n",
              "      <th>ecom</th>\n",
              "      <th>information_source</th>\n",
              "      <th>news</th>\n",
              "      <th>porn</th>\n",
              "      <th>social</th>\n",
              "    </tr>\n",
              "  </thead>\n",
              "  <tbody>\n",
              "    <tr>\n",
              "      <th>0</th>\n",
              "      <td>6622</td>\n",
              "      <td>6488536.0</td>\n",
              "      <td>NaN</td>\n",
              "      <td>0</td>\n",
              "      <td>82221</td>\n",
              "      <td>0</td>\n",
              "      <td>0</td>\n",
              "      <td>18.450527</td>\n",
              "      <td>0.461750</td>\n",
              "      <td>2020-04-21 16:04:41.817367072</td>\n",
              "      <td>1.0</td>\n",
              "      <td>0.0</td>\n",
              "      <td>0.0</td>\n",
              "      <td>0.0</td>\n",
              "      <td>0.0</td>\n",
              "    </tr>\n",
              "    <tr>\n",
              "      <th>1</th>\n",
              "      <td>2047</td>\n",
              "      <td>874840.0</td>\n",
              "      <td>21100.0</td>\n",
              "      <td>0</td>\n",
              "      <td>12872</td>\n",
              "      <td>0</td>\n",
              "      <td>0</td>\n",
              "      <td>10.721619</td>\n",
              "      <td>-0.022317</td>\n",
              "      <td>2024-07-19 23:50:07.268931816</td>\n",
              "      <td>0.0</td>\n",
              "      <td>1.0</td>\n",
              "      <td>0.0</td>\n",
              "      <td>0.0</td>\n",
              "      <td>0.0</td>\n",
              "    </tr>\n",
              "    <tr>\n",
              "      <th>2</th>\n",
              "      <td>1118</td>\n",
              "      <td>571210.0</td>\n",
              "      <td>94707.0</td>\n",
              "      <td>0</td>\n",
              "      <td>0</td>\n",
              "      <td>7420</td>\n",
              "      <td>0</td>\n",
              "      <td>1.922243</td>\n",
              "      <td>0.046396</td>\n",
              "      <td>2024-07-13 16:35:54.794883135</td>\n",
              "      <td>0.0</td>\n",
              "      <td>1.0</td>\n",
              "      <td>0.0</td>\n",
              "      <td>0.0</td>\n",
              "      <td>0.0</td>\n",
              "    </tr>\n",
              "    <tr>\n",
              "      <th>3</th>\n",
              "      <td>4992</td>\n",
              "      <td>89534.0</td>\n",
              "      <td>924.0</td>\n",
              "      <td>0</td>\n",
              "      <td>834</td>\n",
              "      <td>0</td>\n",
              "      <td>0</td>\n",
              "      <td>2.149243</td>\n",
              "      <td>-0.093360</td>\n",
              "      <td>2024-09-10 21:29:14.006315095</td>\n",
              "      <td>0.0</td>\n",
              "      <td>0.0</td>\n",
              "      <td>1.0</td>\n",
              "      <td>0.0</td>\n",
              "      <td>0.0</td>\n",
              "    </tr>\n",
              "    <tr>\n",
              "      <th>4</th>\n",
              "      <td>9970</td>\n",
              "      <td>1043953.0</td>\n",
              "      <td>289288.0</td>\n",
              "      <td>0</td>\n",
              "      <td>58375</td>\n",
              "      <td>20260</td>\n",
              "      <td>3948</td>\n",
              "      <td>3.764965</td>\n",
              "      <td>0.027303</td>\n",
              "      <td>2024-05-26 11:07:15.950527838</td>\n",
              "      <td>0.0</td>\n",
              "      <td>1.0</td>\n",
              "      <td>0.0</td>\n",
              "      <td>0.0</td>\n",
              "      <td>0.0</td>\n",
              "    </tr>\n",
              "  </tbody>\n",
              "</table>\n",
              "</div>\n",
              "    <div class=\"colab-df-buttons\">\n",
              "\n",
              "  <div class=\"colab-df-container\">\n",
              "    <button class=\"colab-df-convert\" onclick=\"convertToInteractive('df-5afa5da9-214c-4594-a3c5-c768038d4334')\"\n",
              "            title=\"Convert this dataframe to an interactive table.\"\n",
              "            style=\"display:none;\">\n",
              "\n",
              "  <svg xmlns=\"http://www.w3.org/2000/svg\" height=\"24px\" viewBox=\"0 -960 960 960\">\n",
              "    <path d=\"M120-120v-720h720v720H120Zm60-500h600v-160H180v160Zm220 220h160v-160H400v160Zm0 220h160v-160H400v160ZM180-400h160v-160H180v160Zm440 0h160v-160H620v160ZM180-180h160v-160H180v160Zm440 0h160v-160H620v160Z\"/>\n",
              "  </svg>\n",
              "    </button>\n",
              "\n",
              "  <style>\n",
              "    .colab-df-container {\n",
              "      display:flex;\n",
              "      gap: 12px;\n",
              "    }\n",
              "\n",
              "    .colab-df-convert {\n",
              "      background-color: #E8F0FE;\n",
              "      border: none;\n",
              "      border-radius: 50%;\n",
              "      cursor: pointer;\n",
              "      display: none;\n",
              "      fill: #1967D2;\n",
              "      height: 32px;\n",
              "      padding: 0 0 0 0;\n",
              "      width: 32px;\n",
              "    }\n",
              "\n",
              "    .colab-df-convert:hover {\n",
              "      background-color: #E2EBFA;\n",
              "      box-shadow: 0px 1px 2px rgba(60, 64, 67, 0.3), 0px 1px 3px 1px rgba(60, 64, 67, 0.15);\n",
              "      fill: #174EA6;\n",
              "    }\n",
              "\n",
              "    .colab-df-buttons div {\n",
              "      margin-bottom: 4px;\n",
              "    }\n",
              "\n",
              "    [theme=dark] .colab-df-convert {\n",
              "      background-color: #3B4455;\n",
              "      fill: #D2E3FC;\n",
              "    }\n",
              "\n",
              "    [theme=dark] .colab-df-convert:hover {\n",
              "      background-color: #434B5C;\n",
              "      box-shadow: 0px 1px 3px 1px rgba(0, 0, 0, 0.15);\n",
              "      filter: drop-shadow(0px 1px 2px rgba(0, 0, 0, 0.3));\n",
              "      fill: #FFFFFF;\n",
              "    }\n",
              "  </style>\n",
              "\n",
              "    <script>\n",
              "      const buttonEl =\n",
              "        document.querySelector('#df-5afa5da9-214c-4594-a3c5-c768038d4334 button.colab-df-convert');\n",
              "      buttonEl.style.display =\n",
              "        google.colab.kernel.accessAllowed ? 'block' : 'none';\n",
              "\n",
              "      async function convertToInteractive(key) {\n",
              "        const element = document.querySelector('#df-5afa5da9-214c-4594-a3c5-c768038d4334');\n",
              "        const dataTable =\n",
              "          await google.colab.kernel.invokeFunction('convertToInteractive',\n",
              "                                                    [key], {});\n",
              "        if (!dataTable) return;\n",
              "\n",
              "        const docLinkHtml = 'Like what you see? Visit the ' +\n",
              "          '<a target=\"_blank\" href=https://colab.research.google.com/notebooks/data_table.ipynb>data table notebook</a>'\n",
              "          + ' to learn more about interactive tables.';\n",
              "        element.innerHTML = '';\n",
              "        dataTable['output_type'] = 'display_data';\n",
              "        await google.colab.output.renderOutput(dataTable, element);\n",
              "        const docLink = document.createElement('div');\n",
              "        docLink.innerHTML = docLinkHtml;\n",
              "        element.appendChild(docLink);\n",
              "      }\n",
              "    </script>\n",
              "  </div>\n",
              "\n",
              "\n",
              "<div id=\"df-cab268d0-a397-4da6-b2db-ae94f8256e54\">\n",
              "  <button class=\"colab-df-quickchart\" onclick=\"quickchart('df-cab268d0-a397-4da6-b2db-ae94f8256e54')\"\n",
              "            title=\"Suggest charts\"\n",
              "            style=\"display:none;\">\n",
              "\n",
              "<svg xmlns=\"http://www.w3.org/2000/svg\" height=\"24px\"viewBox=\"0 0 24 24\"\n",
              "     width=\"24px\">\n",
              "    <g>\n",
              "        <path d=\"M19 3H5c-1.1 0-2 .9-2 2v14c0 1.1.9 2 2 2h14c1.1 0 2-.9 2-2V5c0-1.1-.9-2-2-2zM9 17H7v-7h2v7zm4 0h-2V7h2v10zm4 0h-2v-4h2v4z\"/>\n",
              "    </g>\n",
              "</svg>\n",
              "  </button>\n",
              "\n",
              "<style>\n",
              "  .colab-df-quickchart {\n",
              "      --bg-color: #E8F0FE;\n",
              "      --fill-color: #1967D2;\n",
              "      --hover-bg-color: #E2EBFA;\n",
              "      --hover-fill-color: #174EA6;\n",
              "      --disabled-fill-color: #AAA;\n",
              "      --disabled-bg-color: #DDD;\n",
              "  }\n",
              "\n",
              "  [theme=dark] .colab-df-quickchart {\n",
              "      --bg-color: #3B4455;\n",
              "      --fill-color: #D2E3FC;\n",
              "      --hover-bg-color: #434B5C;\n",
              "      --hover-fill-color: #FFFFFF;\n",
              "      --disabled-bg-color: #3B4455;\n",
              "      --disabled-fill-color: #666;\n",
              "  }\n",
              "\n",
              "  .colab-df-quickchart {\n",
              "    background-color: var(--bg-color);\n",
              "    border: none;\n",
              "    border-radius: 50%;\n",
              "    cursor: pointer;\n",
              "    display: none;\n",
              "    fill: var(--fill-color);\n",
              "    height: 32px;\n",
              "    padding: 0;\n",
              "    width: 32px;\n",
              "  }\n",
              "\n",
              "  .colab-df-quickchart:hover {\n",
              "    background-color: var(--hover-bg-color);\n",
              "    box-shadow: 0 1px 2px rgba(60, 64, 67, 0.3), 0 1px 3px 1px rgba(60, 64, 67, 0.15);\n",
              "    fill: var(--button-hover-fill-color);\n",
              "  }\n",
              "\n",
              "  .colab-df-quickchart-complete:disabled,\n",
              "  .colab-df-quickchart-complete:disabled:hover {\n",
              "    background-color: var(--disabled-bg-color);\n",
              "    fill: var(--disabled-fill-color);\n",
              "    box-shadow: none;\n",
              "  }\n",
              "\n",
              "  .colab-df-spinner {\n",
              "    border: 2px solid var(--fill-color);\n",
              "    border-color: transparent;\n",
              "    border-bottom-color: var(--fill-color);\n",
              "    animation:\n",
              "      spin 1s steps(1) infinite;\n",
              "  }\n",
              "\n",
              "  @keyframes spin {\n",
              "    0% {\n",
              "      border-color: transparent;\n",
              "      border-bottom-color: var(--fill-color);\n",
              "      border-left-color: var(--fill-color);\n",
              "    }\n",
              "    20% {\n",
              "      border-color: transparent;\n",
              "      border-left-color: var(--fill-color);\n",
              "      border-top-color: var(--fill-color);\n",
              "    }\n",
              "    30% {\n",
              "      border-color: transparent;\n",
              "      border-left-color: var(--fill-color);\n",
              "      border-top-color: var(--fill-color);\n",
              "      border-right-color: var(--fill-color);\n",
              "    }\n",
              "    40% {\n",
              "      border-color: transparent;\n",
              "      border-right-color: var(--fill-color);\n",
              "      border-top-color: var(--fill-color);\n",
              "    }\n",
              "    60% {\n",
              "      border-color: transparent;\n",
              "      border-right-color: var(--fill-color);\n",
              "    }\n",
              "    80% {\n",
              "      border-color: transparent;\n",
              "      border-right-color: var(--fill-color);\n",
              "      border-bottom-color: var(--fill-color);\n",
              "    }\n",
              "    90% {\n",
              "      border-color: transparent;\n",
              "      border-bottom-color: var(--fill-color);\n",
              "    }\n",
              "  }\n",
              "</style>\n",
              "\n",
              "  <script>\n",
              "    async function quickchart(key) {\n",
              "      const quickchartButtonEl =\n",
              "        document.querySelector('#' + key + ' button');\n",
              "      quickchartButtonEl.disabled = true;  // To prevent multiple clicks.\n",
              "      quickchartButtonEl.classList.add('colab-df-spinner');\n",
              "      try {\n",
              "        const charts = await google.colab.kernel.invokeFunction(\n",
              "            'suggestCharts', [key], {});\n",
              "      } catch (error) {\n",
              "        console.error('Error during call to suggestCharts:', error);\n",
              "      }\n",
              "      quickchartButtonEl.classList.remove('colab-df-spinner');\n",
              "      quickchartButtonEl.classList.add('colab-df-quickchart-complete');\n",
              "    }\n",
              "    (() => {\n",
              "      let quickchartButtonEl =\n",
              "        document.querySelector('#df-cab268d0-a397-4da6-b2db-ae94f8256e54 button');\n",
              "      quickchartButtonEl.style.display =\n",
              "        google.colab.kernel.accessAllowed ? 'block' : 'none';\n",
              "    })();\n",
              "  </script>\n",
              "</div>\n",
              "    </div>\n",
              "  </div>\n"
            ],
            "application/vnd.google.colaboratory.intrinsic+json": {
              "type": "dataframe",
              "variable_name": "data",
              "summary": "{\n  \"name\": \"data\",\n  \"rows\": 8000,\n  \"fields\": [\n    {\n      \"column\": \"Unnamed: 0\",\n      \"properties\": {\n        \"dtype\": \"number\",\n        \"std\": 2893,\n        \"min\": 0,\n        \"max\": 9999,\n        \"num_unique_values\": 8000,\n        \"samples\": [\n          3314,\n          4506,\n          5445\n        ],\n        \"semantic_type\": \"\",\n        \"description\": \"\"\n      }\n    },\n    {\n      \"column\": \"clicks\",\n      \"properties\": {\n        \"dtype\": \"number\",\n        \"std\": 4699119.939783889,\n        \"min\": 51.0,\n        \"max\": 62032065.0,\n        \"num_unique_values\": 7723,\n        \"samples\": [\n          1596885.0,\n          7817454.0,\n          205376.0\n        ],\n        \"semantic_type\": \"\",\n        \"description\": \"\"\n      }\n    },\n    {\n      \"column\": \"likes\",\n      \"properties\": {\n        \"dtype\": \"number\",\n        \"std\": 1978345.3178328334,\n        \"min\": 0.0,\n        \"max\": 55821812.0,\n        \"num_unique_values\": 5283,\n        \"samples\": [\n          17741.0,\n          7505.0,\n          242644.0\n        ],\n        \"semantic_type\": \"\",\n        \"description\": \"\"\n      }\n    },\n    {\n      \"column\": \"buys\",\n      \"properties\": {\n        \"dtype\": \"number\",\n        \"std\": 2262221,\n        \"min\": 0,\n        \"max\": 42773913,\n        \"num_unique_values\": 1605,\n        \"samples\": [\n          21369,\n          455158,\n          1337448\n        ],\n        \"semantic_type\": \"\",\n        \"description\": \"\"\n      }\n    },\n    {\n      \"column\": \"4xx_errors\",\n      \"properties\": {\n        \"dtype\": \"number\",\n        \"std\": 155521,\n        \"min\": 0,\n        \"max\": 2904996,\n        \"num_unique_values\": 6592,\n        \"samples\": [\n          114963,\n          343614,\n          39566\n        ],\n        \"semantic_type\": \"\",\n        \"description\": \"\"\n      }\n    },\n    {\n      \"column\": \"5xx_errors\",\n      \"properties\": {\n        \"dtype\": \"number\",\n        \"std\": 79469,\n        \"min\": 0,\n        \"max\": 1865588,\n        \"num_unique_values\": 3731,\n        \"samples\": [\n          497,\n          47347,\n          17052\n        ],\n        \"semantic_type\": \"\",\n        \"description\": \"\"\n      }\n    },\n    {\n      \"column\": \"complaints_count\",\n      \"properties\": {\n        \"dtype\": \"string\",\n        \"num_unique_values\": 4133,\n        \"samples\": [\n          \"4669\",\n          \"8497\",\n          \"1988\"\n        ],\n        \"semantic_type\": \"\",\n        \"description\": \"\"\n      }\n    },\n    {\n      \"column\": \"average_dwelltime\",\n      \"properties\": {\n        \"dtype\": \"number\",\n        \"std\": 10.00492407098839,\n        \"min\": -1.0,\n        \"max\": 211.2180664029132,\n        \"num_unique_values\": 7594,\n        \"samples\": [\n          5.959884537380768,\n          10.112499279897582,\n          24.997935648786147\n        ],\n        \"semantic_type\": \"\",\n        \"description\": \"\"\n      }\n    },\n    {\n      \"column\": \"source_attractiveness\",\n      \"properties\": {\n        \"dtype\": \"number\",\n        \"std\": 0.2278734320080574,\n        \"min\": -0.6817179442832678,\n        \"max\": 1.3557364805492955,\n        \"num_unique_values\": 8000,\n        \"samples\": [\n          0.0632486239400259,\n          0.237223928441249,\n          0.1491086162381296\n        ],\n        \"semantic_type\": \"\",\n        \"description\": \"\"\n      }\n    },\n    {\n      \"column\": \"date_of_registration\",\n      \"properties\": {\n        \"dtype\": \"object\",\n        \"num_unique_values\": 8000,\n        \"samples\": [\n          \"2023-11-12 09:51:12.435255488\",\n          \"2021-06-23 18:09:28.413287376\",\n          \"2023-11-21 16:21:16.812334104\"\n        ],\n        \"semantic_type\": \"\",\n        \"description\": \"\"\n      }\n    },\n    {\n      \"column\": \"ecom\",\n      \"properties\": {\n        \"dtype\": \"number\",\n        \"std\": 0.4610686749719671,\n        \"min\": 0.0,\n        \"max\": 1.0,\n        \"num_unique_values\": 2,\n        \"samples\": [\n          0.0,\n          1.0\n        ],\n        \"semantic_type\": \"\",\n        \"description\": \"\"\n      }\n    },\n    {\n      \"column\": \"information_source\",\n      \"properties\": {\n        \"dtype\": \"number\",\n        \"std\": 0.4999631815422489,\n        \"min\": 0.0,\n        \"max\": 1.0,\n        \"num_unique_values\": 2,\n        \"samples\": [\n          1.0,\n          0.0\n        ],\n        \"semantic_type\": \"\",\n        \"description\": \"\"\n      }\n    },\n    {\n      \"column\": \"news\",\n      \"properties\": {\n        \"dtype\": \"number\",\n        \"std\": 0.30266722804321283,\n        \"min\": 0.0,\n        \"max\": 1.0,\n        \"num_unique_values\": 2,\n        \"samples\": [\n          1.0,\n          0.0\n        ],\n        \"semantic_type\": \"\",\n        \"description\": \"\"\n      }\n    },\n    {\n      \"column\": \"porn\",\n      \"properties\": {\n        \"dtype\": \"number\",\n        \"std\": 0.21351506494945932,\n        \"min\": 0.0,\n        \"max\": 1.0,\n        \"num_unique_values\": 2,\n        \"samples\": [\n          1.0,\n          0.0\n        ],\n        \"semantic_type\": \"\",\n        \"description\": \"\"\n      }\n    },\n    {\n      \"column\": \"social\",\n      \"properties\": {\n        \"dtype\": \"number\",\n        \"std\": 0.22178848739651896,\n        \"min\": 0.0,\n        \"max\": 1.0,\n        \"num_unique_values\": 2,\n        \"samples\": [\n          1.0,\n          0.0\n        ],\n        \"semantic_type\": \"\",\n        \"description\": \"\"\n      }\n    }\n  ]\n}"
            }
          },
          "metadata": {},
          "execution_count": 7
        }
      ]
    },
    {
      "cell_type": "markdown",
      "source": [
        "Надо поработать с датами"
      ],
      "metadata": {
        "id": "Xo2mzPAsngsc"
      },
      "id": "Xo2mzPAsngsc"
    },
    {
      "cell_type": "code",
      "source": [
        "today = pd.to_datetime('today')\n",
        "data['date_of_registration'] = pd.to_datetime(data['date_of_registration'])\n",
        "data['days_since_registration'] = (today - data['date_of_registration']).dt.days\n",
        "data.drop(columns='date_of_registration')"
      ],
      "metadata": {
        "id": "vS60P2wqmZB-",
        "colab": {
          "base_uri": "https://localhost:8080/",
          "height": 461
        },
        "outputId": "d43baa2b-0f79-4850-ae92-f5ec543b0724"
      },
      "id": "vS60P2wqmZB-",
      "execution_count": 8,
      "outputs": [
        {
          "output_type": "execute_result",
          "data": {
            "text/plain": [
              "      Unnamed: 0     clicks     likes   buys  4xx_errors  5xx_errors  \\\n",
              "0           6622  6488536.0       NaN      0       82221           0   \n",
              "1           2047   874840.0   21100.0      0       12872           0   \n",
              "2           1118   571210.0   94707.0      0           0        7420   \n",
              "3           4992    89534.0     924.0      0         834           0   \n",
              "4           9970  1043953.0  289288.0      0       58375       20260   \n",
              "...          ...        ...       ...    ...         ...         ...   \n",
              "7995         361  1468601.0  474524.0      0       61307       83928   \n",
              "7996        2621    93172.0    6418.0      0        3418         705   \n",
              "7997        2605    82916.0       0.0      0        4302        1718   \n",
              "7998        1231   823896.0  105666.0      0           0        2892   \n",
              "7999        9289   283836.0   36945.0  25495        1379           0   \n",
              "\n",
              "     complaints_count  average_dwelltime  source_attractiveness  ecom  \\\n",
              "0                   0          18.450527               0.461750   1.0   \n",
              "1                   0          10.721619              -0.022317   0.0   \n",
              "2                   0           1.922243               0.046396   0.0   \n",
              "3                   0           2.149243              -0.093360   0.0   \n",
              "4                3948           3.764965               0.027303   0.0   \n",
              "...               ...                ...                    ...   ...   \n",
              "7995            16841           4.191481               0.017470   0.0   \n",
              "7996                0           3.745192              -0.019069   0.0   \n",
              "7997             1007           5.837475              -0.061523   0.0   \n",
              "7998              267          11.994037               0.131620   0.0   \n",
              "7999              NaN           0.557076              -0.000510   1.0   \n",
              "\n",
              "      information_source  news  porn  social  days_since_registration  \n",
              "0                    0.0   0.0   0.0     0.0                     1644  \n",
              "1                    1.0   0.0   0.0     0.0                       93  \n",
              "2                    1.0   0.0   0.0     0.0                      100  \n",
              "3                    0.0   1.0   0.0     0.0                       40  \n",
              "4                    1.0   0.0   0.0     0.0                      148  \n",
              "...                  ...   ...   ...     ...                      ...  \n",
              "7995                 1.0   0.0   0.0     0.0                      488  \n",
              "7996                 1.0   0.0   0.0     0.0                       91  \n",
              "7997                 1.0   0.0   0.0     0.0                      126  \n",
              "7998                 0.0   0.0   0.0     1.0                      498  \n",
              "7999                 0.0   0.0   0.0     0.0                       48  \n",
              "\n",
              "[8000 rows x 15 columns]"
            ],
            "text/html": [
              "\n",
              "  <div id=\"df-a9acc80d-f972-47dc-ad65-a3e7e7e68a18\" class=\"colab-df-container\">\n",
              "    <div>\n",
              "<style scoped>\n",
              "    .dataframe tbody tr th:only-of-type {\n",
              "        vertical-align: middle;\n",
              "    }\n",
              "\n",
              "    .dataframe tbody tr th {\n",
              "        vertical-align: top;\n",
              "    }\n",
              "\n",
              "    .dataframe thead th {\n",
              "        text-align: right;\n",
              "    }\n",
              "</style>\n",
              "<table border=\"1\" class=\"dataframe\">\n",
              "  <thead>\n",
              "    <tr style=\"text-align: right;\">\n",
              "      <th></th>\n",
              "      <th>Unnamed: 0</th>\n",
              "      <th>clicks</th>\n",
              "      <th>likes</th>\n",
              "      <th>buys</th>\n",
              "      <th>4xx_errors</th>\n",
              "      <th>5xx_errors</th>\n",
              "      <th>complaints_count</th>\n",
              "      <th>average_dwelltime</th>\n",
              "      <th>source_attractiveness</th>\n",
              "      <th>ecom</th>\n",
              "      <th>information_source</th>\n",
              "      <th>news</th>\n",
              "      <th>porn</th>\n",
              "      <th>social</th>\n",
              "      <th>days_since_registration</th>\n",
              "    </tr>\n",
              "  </thead>\n",
              "  <tbody>\n",
              "    <tr>\n",
              "      <th>0</th>\n",
              "      <td>6622</td>\n",
              "      <td>6488536.0</td>\n",
              "      <td>NaN</td>\n",
              "      <td>0</td>\n",
              "      <td>82221</td>\n",
              "      <td>0</td>\n",
              "      <td>0</td>\n",
              "      <td>18.450527</td>\n",
              "      <td>0.461750</td>\n",
              "      <td>1.0</td>\n",
              "      <td>0.0</td>\n",
              "      <td>0.0</td>\n",
              "      <td>0.0</td>\n",
              "      <td>0.0</td>\n",
              "      <td>1644</td>\n",
              "    </tr>\n",
              "    <tr>\n",
              "      <th>1</th>\n",
              "      <td>2047</td>\n",
              "      <td>874840.0</td>\n",
              "      <td>21100.0</td>\n",
              "      <td>0</td>\n",
              "      <td>12872</td>\n",
              "      <td>0</td>\n",
              "      <td>0</td>\n",
              "      <td>10.721619</td>\n",
              "      <td>-0.022317</td>\n",
              "      <td>0.0</td>\n",
              "      <td>1.0</td>\n",
              "      <td>0.0</td>\n",
              "      <td>0.0</td>\n",
              "      <td>0.0</td>\n",
              "      <td>93</td>\n",
              "    </tr>\n",
              "    <tr>\n",
              "      <th>2</th>\n",
              "      <td>1118</td>\n",
              "      <td>571210.0</td>\n",
              "      <td>94707.0</td>\n",
              "      <td>0</td>\n",
              "      <td>0</td>\n",
              "      <td>7420</td>\n",
              "      <td>0</td>\n",
              "      <td>1.922243</td>\n",
              "      <td>0.046396</td>\n",
              "      <td>0.0</td>\n",
              "      <td>1.0</td>\n",
              "      <td>0.0</td>\n",
              "      <td>0.0</td>\n",
              "      <td>0.0</td>\n",
              "      <td>100</td>\n",
              "    </tr>\n",
              "    <tr>\n",
              "      <th>3</th>\n",
              "      <td>4992</td>\n",
              "      <td>89534.0</td>\n",
              "      <td>924.0</td>\n",
              "      <td>0</td>\n",
              "      <td>834</td>\n",
              "      <td>0</td>\n",
              "      <td>0</td>\n",
              "      <td>2.149243</td>\n",
              "      <td>-0.093360</td>\n",
              "      <td>0.0</td>\n",
              "      <td>0.0</td>\n",
              "      <td>1.0</td>\n",
              "      <td>0.0</td>\n",
              "      <td>0.0</td>\n",
              "      <td>40</td>\n",
              "    </tr>\n",
              "    <tr>\n",
              "      <th>4</th>\n",
              "      <td>9970</td>\n",
              "      <td>1043953.0</td>\n",
              "      <td>289288.0</td>\n",
              "      <td>0</td>\n",
              "      <td>58375</td>\n",
              "      <td>20260</td>\n",
              "      <td>3948</td>\n",
              "      <td>3.764965</td>\n",
              "      <td>0.027303</td>\n",
              "      <td>0.0</td>\n",
              "      <td>1.0</td>\n",
              "      <td>0.0</td>\n",
              "      <td>0.0</td>\n",
              "      <td>0.0</td>\n",
              "      <td>148</td>\n",
              "    </tr>\n",
              "    <tr>\n",
              "      <th>...</th>\n",
              "      <td>...</td>\n",
              "      <td>...</td>\n",
              "      <td>...</td>\n",
              "      <td>...</td>\n",
              "      <td>...</td>\n",
              "      <td>...</td>\n",
              "      <td>...</td>\n",
              "      <td>...</td>\n",
              "      <td>...</td>\n",
              "      <td>...</td>\n",
              "      <td>...</td>\n",
              "      <td>...</td>\n",
              "      <td>...</td>\n",
              "      <td>...</td>\n",
              "      <td>...</td>\n",
              "    </tr>\n",
              "    <tr>\n",
              "      <th>7995</th>\n",
              "      <td>361</td>\n",
              "      <td>1468601.0</td>\n",
              "      <td>474524.0</td>\n",
              "      <td>0</td>\n",
              "      <td>61307</td>\n",
              "      <td>83928</td>\n",
              "      <td>16841</td>\n",
              "      <td>4.191481</td>\n",
              "      <td>0.017470</td>\n",
              "      <td>0.0</td>\n",
              "      <td>1.0</td>\n",
              "      <td>0.0</td>\n",
              "      <td>0.0</td>\n",
              "      <td>0.0</td>\n",
              "      <td>488</td>\n",
              "    </tr>\n",
              "    <tr>\n",
              "      <th>7996</th>\n",
              "      <td>2621</td>\n",
              "      <td>93172.0</td>\n",
              "      <td>6418.0</td>\n",
              "      <td>0</td>\n",
              "      <td>3418</td>\n",
              "      <td>705</td>\n",
              "      <td>0</td>\n",
              "      <td>3.745192</td>\n",
              "      <td>-0.019069</td>\n",
              "      <td>0.0</td>\n",
              "      <td>1.0</td>\n",
              "      <td>0.0</td>\n",
              "      <td>0.0</td>\n",
              "      <td>0.0</td>\n",
              "      <td>91</td>\n",
              "    </tr>\n",
              "    <tr>\n",
              "      <th>7997</th>\n",
              "      <td>2605</td>\n",
              "      <td>82916.0</td>\n",
              "      <td>0.0</td>\n",
              "      <td>0</td>\n",
              "      <td>4302</td>\n",
              "      <td>1718</td>\n",
              "      <td>1007</td>\n",
              "      <td>5.837475</td>\n",
              "      <td>-0.061523</td>\n",
              "      <td>0.0</td>\n",
              "      <td>1.0</td>\n",
              "      <td>0.0</td>\n",
              "      <td>0.0</td>\n",
              "      <td>0.0</td>\n",
              "      <td>126</td>\n",
              "    </tr>\n",
              "    <tr>\n",
              "      <th>7998</th>\n",
              "      <td>1231</td>\n",
              "      <td>823896.0</td>\n",
              "      <td>105666.0</td>\n",
              "      <td>0</td>\n",
              "      <td>0</td>\n",
              "      <td>2892</td>\n",
              "      <td>267</td>\n",
              "      <td>11.994037</td>\n",
              "      <td>0.131620</td>\n",
              "      <td>0.0</td>\n",
              "      <td>0.0</td>\n",
              "      <td>0.0</td>\n",
              "      <td>0.0</td>\n",
              "      <td>1.0</td>\n",
              "      <td>498</td>\n",
              "    </tr>\n",
              "    <tr>\n",
              "      <th>7999</th>\n",
              "      <td>9289</td>\n",
              "      <td>283836.0</td>\n",
              "      <td>36945.0</td>\n",
              "      <td>25495</td>\n",
              "      <td>1379</td>\n",
              "      <td>0</td>\n",
              "      <td>NaN</td>\n",
              "      <td>0.557076</td>\n",
              "      <td>-0.000510</td>\n",
              "      <td>1.0</td>\n",
              "      <td>0.0</td>\n",
              "      <td>0.0</td>\n",
              "      <td>0.0</td>\n",
              "      <td>0.0</td>\n",
              "      <td>48</td>\n",
              "    </tr>\n",
              "  </tbody>\n",
              "</table>\n",
              "<p>8000 rows × 15 columns</p>\n",
              "</div>\n",
              "    <div class=\"colab-df-buttons\">\n",
              "\n",
              "  <div class=\"colab-df-container\">\n",
              "    <button class=\"colab-df-convert\" onclick=\"convertToInteractive('df-a9acc80d-f972-47dc-ad65-a3e7e7e68a18')\"\n",
              "            title=\"Convert this dataframe to an interactive table.\"\n",
              "            style=\"display:none;\">\n",
              "\n",
              "  <svg xmlns=\"http://www.w3.org/2000/svg\" height=\"24px\" viewBox=\"0 -960 960 960\">\n",
              "    <path d=\"M120-120v-720h720v720H120Zm60-500h600v-160H180v160Zm220 220h160v-160H400v160Zm0 220h160v-160H400v160ZM180-400h160v-160H180v160Zm440 0h160v-160H620v160ZM180-180h160v-160H180v160Zm440 0h160v-160H620v160Z\"/>\n",
              "  </svg>\n",
              "    </button>\n",
              "\n",
              "  <style>\n",
              "    .colab-df-container {\n",
              "      display:flex;\n",
              "      gap: 12px;\n",
              "    }\n",
              "\n",
              "    .colab-df-convert {\n",
              "      background-color: #E8F0FE;\n",
              "      border: none;\n",
              "      border-radius: 50%;\n",
              "      cursor: pointer;\n",
              "      display: none;\n",
              "      fill: #1967D2;\n",
              "      height: 32px;\n",
              "      padding: 0 0 0 0;\n",
              "      width: 32px;\n",
              "    }\n",
              "\n",
              "    .colab-df-convert:hover {\n",
              "      background-color: #E2EBFA;\n",
              "      box-shadow: 0px 1px 2px rgba(60, 64, 67, 0.3), 0px 1px 3px 1px rgba(60, 64, 67, 0.15);\n",
              "      fill: #174EA6;\n",
              "    }\n",
              "\n",
              "    .colab-df-buttons div {\n",
              "      margin-bottom: 4px;\n",
              "    }\n",
              "\n",
              "    [theme=dark] .colab-df-convert {\n",
              "      background-color: #3B4455;\n",
              "      fill: #D2E3FC;\n",
              "    }\n",
              "\n",
              "    [theme=dark] .colab-df-convert:hover {\n",
              "      background-color: #434B5C;\n",
              "      box-shadow: 0px 1px 3px 1px rgba(0, 0, 0, 0.15);\n",
              "      filter: drop-shadow(0px 1px 2px rgba(0, 0, 0, 0.3));\n",
              "      fill: #FFFFFF;\n",
              "    }\n",
              "  </style>\n",
              "\n",
              "    <script>\n",
              "      const buttonEl =\n",
              "        document.querySelector('#df-a9acc80d-f972-47dc-ad65-a3e7e7e68a18 button.colab-df-convert');\n",
              "      buttonEl.style.display =\n",
              "        google.colab.kernel.accessAllowed ? 'block' : 'none';\n",
              "\n",
              "      async function convertToInteractive(key) {\n",
              "        const element = document.querySelector('#df-a9acc80d-f972-47dc-ad65-a3e7e7e68a18');\n",
              "        const dataTable =\n",
              "          await google.colab.kernel.invokeFunction('convertToInteractive',\n",
              "                                                    [key], {});\n",
              "        if (!dataTable) return;\n",
              "\n",
              "        const docLinkHtml = 'Like what you see? Visit the ' +\n",
              "          '<a target=\"_blank\" href=https://colab.research.google.com/notebooks/data_table.ipynb>data table notebook</a>'\n",
              "          + ' to learn more about interactive tables.';\n",
              "        element.innerHTML = '';\n",
              "        dataTable['output_type'] = 'display_data';\n",
              "        await google.colab.output.renderOutput(dataTable, element);\n",
              "        const docLink = document.createElement('div');\n",
              "        docLink.innerHTML = docLinkHtml;\n",
              "        element.appendChild(docLink);\n",
              "      }\n",
              "    </script>\n",
              "  </div>\n",
              "\n",
              "\n",
              "<div id=\"df-b243662c-f463-4678-96b0-6a6ed1481a8d\">\n",
              "  <button class=\"colab-df-quickchart\" onclick=\"quickchart('df-b243662c-f463-4678-96b0-6a6ed1481a8d')\"\n",
              "            title=\"Suggest charts\"\n",
              "            style=\"display:none;\">\n",
              "\n",
              "<svg xmlns=\"http://www.w3.org/2000/svg\" height=\"24px\"viewBox=\"0 0 24 24\"\n",
              "     width=\"24px\">\n",
              "    <g>\n",
              "        <path d=\"M19 3H5c-1.1 0-2 .9-2 2v14c0 1.1.9 2 2 2h14c1.1 0 2-.9 2-2V5c0-1.1-.9-2-2-2zM9 17H7v-7h2v7zm4 0h-2V7h2v10zm4 0h-2v-4h2v4z\"/>\n",
              "    </g>\n",
              "</svg>\n",
              "  </button>\n",
              "\n",
              "<style>\n",
              "  .colab-df-quickchart {\n",
              "      --bg-color: #E8F0FE;\n",
              "      --fill-color: #1967D2;\n",
              "      --hover-bg-color: #E2EBFA;\n",
              "      --hover-fill-color: #174EA6;\n",
              "      --disabled-fill-color: #AAA;\n",
              "      --disabled-bg-color: #DDD;\n",
              "  }\n",
              "\n",
              "  [theme=dark] .colab-df-quickchart {\n",
              "      --bg-color: #3B4455;\n",
              "      --fill-color: #D2E3FC;\n",
              "      --hover-bg-color: #434B5C;\n",
              "      --hover-fill-color: #FFFFFF;\n",
              "      --disabled-bg-color: #3B4455;\n",
              "      --disabled-fill-color: #666;\n",
              "  }\n",
              "\n",
              "  .colab-df-quickchart {\n",
              "    background-color: var(--bg-color);\n",
              "    border: none;\n",
              "    border-radius: 50%;\n",
              "    cursor: pointer;\n",
              "    display: none;\n",
              "    fill: var(--fill-color);\n",
              "    height: 32px;\n",
              "    padding: 0;\n",
              "    width: 32px;\n",
              "  }\n",
              "\n",
              "  .colab-df-quickchart:hover {\n",
              "    background-color: var(--hover-bg-color);\n",
              "    box-shadow: 0 1px 2px rgba(60, 64, 67, 0.3), 0 1px 3px 1px rgba(60, 64, 67, 0.15);\n",
              "    fill: var(--button-hover-fill-color);\n",
              "  }\n",
              "\n",
              "  .colab-df-quickchart-complete:disabled,\n",
              "  .colab-df-quickchart-complete:disabled:hover {\n",
              "    background-color: var(--disabled-bg-color);\n",
              "    fill: var(--disabled-fill-color);\n",
              "    box-shadow: none;\n",
              "  }\n",
              "\n",
              "  .colab-df-spinner {\n",
              "    border: 2px solid var(--fill-color);\n",
              "    border-color: transparent;\n",
              "    border-bottom-color: var(--fill-color);\n",
              "    animation:\n",
              "      spin 1s steps(1) infinite;\n",
              "  }\n",
              "\n",
              "  @keyframes spin {\n",
              "    0% {\n",
              "      border-color: transparent;\n",
              "      border-bottom-color: var(--fill-color);\n",
              "      border-left-color: var(--fill-color);\n",
              "    }\n",
              "    20% {\n",
              "      border-color: transparent;\n",
              "      border-left-color: var(--fill-color);\n",
              "      border-top-color: var(--fill-color);\n",
              "    }\n",
              "    30% {\n",
              "      border-color: transparent;\n",
              "      border-left-color: var(--fill-color);\n",
              "      border-top-color: var(--fill-color);\n",
              "      border-right-color: var(--fill-color);\n",
              "    }\n",
              "    40% {\n",
              "      border-color: transparent;\n",
              "      border-right-color: var(--fill-color);\n",
              "      border-top-color: var(--fill-color);\n",
              "    }\n",
              "    60% {\n",
              "      border-color: transparent;\n",
              "      border-right-color: var(--fill-color);\n",
              "    }\n",
              "    80% {\n",
              "      border-color: transparent;\n",
              "      border-right-color: var(--fill-color);\n",
              "      border-bottom-color: var(--fill-color);\n",
              "    }\n",
              "    90% {\n",
              "      border-color: transparent;\n",
              "      border-bottom-color: var(--fill-color);\n",
              "    }\n",
              "  }\n",
              "</style>\n",
              "\n",
              "  <script>\n",
              "    async function quickchart(key) {\n",
              "      const quickchartButtonEl =\n",
              "        document.querySelector('#' + key + ' button');\n",
              "      quickchartButtonEl.disabled = true;  // To prevent multiple clicks.\n",
              "      quickchartButtonEl.classList.add('colab-df-spinner');\n",
              "      try {\n",
              "        const charts = await google.colab.kernel.invokeFunction(\n",
              "            'suggestCharts', [key], {});\n",
              "      } catch (error) {\n",
              "        console.error('Error during call to suggestCharts:', error);\n",
              "      }\n",
              "      quickchartButtonEl.classList.remove('colab-df-spinner');\n",
              "      quickchartButtonEl.classList.add('colab-df-quickchart-complete');\n",
              "    }\n",
              "    (() => {\n",
              "      let quickchartButtonEl =\n",
              "        document.querySelector('#df-b243662c-f463-4678-96b0-6a6ed1481a8d button');\n",
              "      quickchartButtonEl.style.display =\n",
              "        google.colab.kernel.accessAllowed ? 'block' : 'none';\n",
              "    })();\n",
              "  </script>\n",
              "</div>\n",
              "    </div>\n",
              "  </div>\n"
            ],
            "application/vnd.google.colaboratory.intrinsic+json": {
              "type": "dataframe",
              "summary": "{\n  \"name\": \"data\",\n  \"rows\": 8000,\n  \"fields\": [\n    {\n      \"column\": \"Unnamed: 0\",\n      \"properties\": {\n        \"dtype\": \"number\",\n        \"std\": 2893,\n        \"min\": 0,\n        \"max\": 9999,\n        \"num_unique_values\": 8000,\n        \"samples\": [\n          3314,\n          4506,\n          5445\n        ],\n        \"semantic_type\": \"\",\n        \"description\": \"\"\n      }\n    },\n    {\n      \"column\": \"clicks\",\n      \"properties\": {\n        \"dtype\": \"number\",\n        \"std\": 4699119.939783889,\n        \"min\": 51.0,\n        \"max\": 62032065.0,\n        \"num_unique_values\": 7723,\n        \"samples\": [\n          1596885.0,\n          7817454.0,\n          205376.0\n        ],\n        \"semantic_type\": \"\",\n        \"description\": \"\"\n      }\n    },\n    {\n      \"column\": \"likes\",\n      \"properties\": {\n        \"dtype\": \"number\",\n        \"std\": 1978345.3178328334,\n        \"min\": 0.0,\n        \"max\": 55821812.0,\n        \"num_unique_values\": 5283,\n        \"samples\": [\n          17741.0,\n          7505.0,\n          242644.0\n        ],\n        \"semantic_type\": \"\",\n        \"description\": \"\"\n      }\n    },\n    {\n      \"column\": \"buys\",\n      \"properties\": {\n        \"dtype\": \"number\",\n        \"std\": 2262221,\n        \"min\": 0,\n        \"max\": 42773913,\n        \"num_unique_values\": 1605,\n        \"samples\": [\n          21369,\n          455158,\n          1337448\n        ],\n        \"semantic_type\": \"\",\n        \"description\": \"\"\n      }\n    },\n    {\n      \"column\": \"4xx_errors\",\n      \"properties\": {\n        \"dtype\": \"number\",\n        \"std\": 155521,\n        \"min\": 0,\n        \"max\": 2904996,\n        \"num_unique_values\": 6592,\n        \"samples\": [\n          114963,\n          343614,\n          39566\n        ],\n        \"semantic_type\": \"\",\n        \"description\": \"\"\n      }\n    },\n    {\n      \"column\": \"5xx_errors\",\n      \"properties\": {\n        \"dtype\": \"number\",\n        \"std\": 79469,\n        \"min\": 0,\n        \"max\": 1865588,\n        \"num_unique_values\": 3731,\n        \"samples\": [\n          497,\n          47347,\n          17052\n        ],\n        \"semantic_type\": \"\",\n        \"description\": \"\"\n      }\n    },\n    {\n      \"column\": \"complaints_count\",\n      \"properties\": {\n        \"dtype\": \"string\",\n        \"num_unique_values\": 4133,\n        \"samples\": [\n          \"4669\",\n          \"8497\",\n          \"1988\"\n        ],\n        \"semantic_type\": \"\",\n        \"description\": \"\"\n      }\n    },\n    {\n      \"column\": \"average_dwelltime\",\n      \"properties\": {\n        \"dtype\": \"number\",\n        \"std\": 10.00492407098839,\n        \"min\": -1.0,\n        \"max\": 211.2180664029132,\n        \"num_unique_values\": 7594,\n        \"samples\": [\n          5.959884537380768,\n          10.112499279897582,\n          24.997935648786147\n        ],\n        \"semantic_type\": \"\",\n        \"description\": \"\"\n      }\n    },\n    {\n      \"column\": \"source_attractiveness\",\n      \"properties\": {\n        \"dtype\": \"number\",\n        \"std\": 0.2278734320080574,\n        \"min\": -0.6817179442832678,\n        \"max\": 1.3557364805492955,\n        \"num_unique_values\": 8000,\n        \"samples\": [\n          0.0632486239400259,\n          0.237223928441249,\n          0.1491086162381296\n        ],\n        \"semantic_type\": \"\",\n        \"description\": \"\"\n      }\n    },\n    {\n      \"column\": \"ecom\",\n      \"properties\": {\n        \"dtype\": \"number\",\n        \"std\": 0.4610686749719671,\n        \"min\": 0.0,\n        \"max\": 1.0,\n        \"num_unique_values\": 2,\n        \"samples\": [\n          0.0,\n          1.0\n        ],\n        \"semantic_type\": \"\",\n        \"description\": \"\"\n      }\n    },\n    {\n      \"column\": \"information_source\",\n      \"properties\": {\n        \"dtype\": \"number\",\n        \"std\": 0.4999631815422489,\n        \"min\": 0.0,\n        \"max\": 1.0,\n        \"num_unique_values\": 2,\n        \"samples\": [\n          1.0,\n          0.0\n        ],\n        \"semantic_type\": \"\",\n        \"description\": \"\"\n      }\n    },\n    {\n      \"column\": \"news\",\n      \"properties\": {\n        \"dtype\": \"number\",\n        \"std\": 0.30266722804321283,\n        \"min\": 0.0,\n        \"max\": 1.0,\n        \"num_unique_values\": 2,\n        \"samples\": [\n          1.0,\n          0.0\n        ],\n        \"semantic_type\": \"\",\n        \"description\": \"\"\n      }\n    },\n    {\n      \"column\": \"porn\",\n      \"properties\": {\n        \"dtype\": \"number\",\n        \"std\": 0.21351506494945932,\n        \"min\": 0.0,\n        \"max\": 1.0,\n        \"num_unique_values\": 2,\n        \"samples\": [\n          1.0,\n          0.0\n        ],\n        \"semantic_type\": \"\",\n        \"description\": \"\"\n      }\n    },\n    {\n      \"column\": \"social\",\n      \"properties\": {\n        \"dtype\": \"number\",\n        \"std\": 0.22178848739651896,\n        \"min\": 0.0,\n        \"max\": 1.0,\n        \"num_unique_values\": 2,\n        \"samples\": [\n          1.0,\n          0.0\n        ],\n        \"semantic_type\": \"\",\n        \"description\": \"\"\n      }\n    },\n    {\n      \"column\": \"days_since_registration\",\n      \"properties\": {\n        \"dtype\": \"number\",\n        \"std\": 739,\n        \"min\": 21,\n        \"max\": 6492,\n        \"num_unique_values\": 2159,\n        \"samples\": [\n          2735,\n          1358\n        ],\n        \"semantic_type\": \"\",\n        \"description\": \"\"\n      }\n    }\n  ]\n}"
            }
          },
          "metadata": {},
          "execution_count": 8
        }
      ]
    },
    {
      "cell_type": "code",
      "source": [
        "data['complaints_count'] = pd.to_numeric(data['complaints_count'], errors='coerce')"
      ],
      "metadata": {
        "id": "RP5-rK2sV63Z"
      },
      "id": "RP5-rK2sV63Z",
      "execution_count": 9,
      "outputs": []
    },
    {
      "cell_type": "code",
      "source": [
        "data.isnull().sum()"
      ],
      "metadata": {
        "colab": {
          "base_uri": "https://localhost:8080/",
          "height": 586
        },
        "id": "3kSRzitSmCvu",
        "outputId": "b102b93c-fd75-41df-9fae-959bc48f8f4b"
      },
      "id": "3kSRzitSmCvu",
      "execution_count": 10,
      "outputs": [
        {
          "output_type": "execute_result",
          "data": {
            "text/plain": [
              "Unnamed: 0                   0\n",
              "clicks                     273\n",
              "likes                      376\n",
              "buys                         0\n",
              "4xx_errors                   0\n",
              "5xx_errors                   0\n",
              "complaints_count           884\n",
              "average_dwelltime            0\n",
              "source_attractiveness        0\n",
              "date_of_registration         0\n",
              "ecom                         0\n",
              "information_source           0\n",
              "news                         0\n",
              "porn                         0\n",
              "social                       0\n",
              "days_since_registration      0\n",
              "dtype: int64"
            ],
            "text/html": [
              "<div>\n",
              "<style scoped>\n",
              "    .dataframe tbody tr th:only-of-type {\n",
              "        vertical-align: middle;\n",
              "    }\n",
              "\n",
              "    .dataframe tbody tr th {\n",
              "        vertical-align: top;\n",
              "    }\n",
              "\n",
              "    .dataframe thead th {\n",
              "        text-align: right;\n",
              "    }\n",
              "</style>\n",
              "<table border=\"1\" class=\"dataframe\">\n",
              "  <thead>\n",
              "    <tr style=\"text-align: right;\">\n",
              "      <th></th>\n",
              "      <th>0</th>\n",
              "    </tr>\n",
              "  </thead>\n",
              "  <tbody>\n",
              "    <tr>\n",
              "      <th>Unnamed: 0</th>\n",
              "      <td>0</td>\n",
              "    </tr>\n",
              "    <tr>\n",
              "      <th>clicks</th>\n",
              "      <td>273</td>\n",
              "    </tr>\n",
              "    <tr>\n",
              "      <th>likes</th>\n",
              "      <td>376</td>\n",
              "    </tr>\n",
              "    <tr>\n",
              "      <th>buys</th>\n",
              "      <td>0</td>\n",
              "    </tr>\n",
              "    <tr>\n",
              "      <th>4xx_errors</th>\n",
              "      <td>0</td>\n",
              "    </tr>\n",
              "    <tr>\n",
              "      <th>5xx_errors</th>\n",
              "      <td>0</td>\n",
              "    </tr>\n",
              "    <tr>\n",
              "      <th>complaints_count</th>\n",
              "      <td>884</td>\n",
              "    </tr>\n",
              "    <tr>\n",
              "      <th>average_dwelltime</th>\n",
              "      <td>0</td>\n",
              "    </tr>\n",
              "    <tr>\n",
              "      <th>source_attractiveness</th>\n",
              "      <td>0</td>\n",
              "    </tr>\n",
              "    <tr>\n",
              "      <th>date_of_registration</th>\n",
              "      <td>0</td>\n",
              "    </tr>\n",
              "    <tr>\n",
              "      <th>ecom</th>\n",
              "      <td>0</td>\n",
              "    </tr>\n",
              "    <tr>\n",
              "      <th>information_source</th>\n",
              "      <td>0</td>\n",
              "    </tr>\n",
              "    <tr>\n",
              "      <th>news</th>\n",
              "      <td>0</td>\n",
              "    </tr>\n",
              "    <tr>\n",
              "      <th>porn</th>\n",
              "      <td>0</td>\n",
              "    </tr>\n",
              "    <tr>\n",
              "      <th>social</th>\n",
              "      <td>0</td>\n",
              "    </tr>\n",
              "    <tr>\n",
              "      <th>days_since_registration</th>\n",
              "      <td>0</td>\n",
              "    </tr>\n",
              "  </tbody>\n",
              "</table>\n",
              "</div><br><label><b>dtype:</b> int64</label>"
            ]
          },
          "metadata": {},
          "execution_count": 10
        }
      ]
    },
    {
      "cell_type": "markdown",
      "source": [
        "Как видно, пропуски есть в довольно отвественных категориях. Их заполнение опасно, так как может исказить реальность. И всё же попробуем заполнить:"
      ],
      "metadata": {
        "id": "Ar-vhKCWpZHv"
      },
      "id": "Ar-vhKCWpZHv"
    },
    {
      "cell_type": "code",
      "source": [
        "from sklearn.impute import KNNImputer"
      ],
      "metadata": {
        "id": "W1HiS16T5rJR"
      },
      "id": "W1HiS16T5rJR",
      "execution_count": 11,
      "outputs": []
    },
    {
      "cell_type": "code",
      "source": [
        "data.replace('-', np.nan, inplace=True)\n",
        "\n",
        "imputer = KNNImputer(n_neighbors=2)\n",
        "data[['clicks', 'likes', 'complaints_count']] = imputer.fit_transform(data[['clicks', 'likes', 'complaints_count']])"
      ],
      "metadata": {
        "id": "z6hnFZdFpi_1"
      },
      "id": "z6hnFZdFpi_1",
      "execution_count": 12,
      "outputs": []
    },
    {
      "cell_type": "code",
      "source": [
        "data.isnull().sum()"
      ],
      "metadata": {
        "colab": {
          "base_uri": "https://localhost:8080/",
          "height": 586
        },
        "id": "9NjJKCAu5ZoS",
        "outputId": "c2b6514a-0d78-4a04-f149-12fd2fcbb14c"
      },
      "id": "9NjJKCAu5ZoS",
      "execution_count": 13,
      "outputs": [
        {
          "output_type": "execute_result",
          "data": {
            "text/plain": [
              "Unnamed: 0                 0\n",
              "clicks                     0\n",
              "likes                      0\n",
              "buys                       0\n",
              "4xx_errors                 0\n",
              "5xx_errors                 0\n",
              "complaints_count           0\n",
              "average_dwelltime          0\n",
              "source_attractiveness      0\n",
              "date_of_registration       0\n",
              "ecom                       0\n",
              "information_source         0\n",
              "news                       0\n",
              "porn                       0\n",
              "social                     0\n",
              "days_since_registration    0\n",
              "dtype: int64"
            ],
            "text/html": [
              "<div>\n",
              "<style scoped>\n",
              "    .dataframe tbody tr th:only-of-type {\n",
              "        vertical-align: middle;\n",
              "    }\n",
              "\n",
              "    .dataframe tbody tr th {\n",
              "        vertical-align: top;\n",
              "    }\n",
              "\n",
              "    .dataframe thead th {\n",
              "        text-align: right;\n",
              "    }\n",
              "</style>\n",
              "<table border=\"1\" class=\"dataframe\">\n",
              "  <thead>\n",
              "    <tr style=\"text-align: right;\">\n",
              "      <th></th>\n",
              "      <th>0</th>\n",
              "    </tr>\n",
              "  </thead>\n",
              "  <tbody>\n",
              "    <tr>\n",
              "      <th>Unnamed: 0</th>\n",
              "      <td>0</td>\n",
              "    </tr>\n",
              "    <tr>\n",
              "      <th>clicks</th>\n",
              "      <td>0</td>\n",
              "    </tr>\n",
              "    <tr>\n",
              "      <th>likes</th>\n",
              "      <td>0</td>\n",
              "    </tr>\n",
              "    <tr>\n",
              "      <th>buys</th>\n",
              "      <td>0</td>\n",
              "    </tr>\n",
              "    <tr>\n",
              "      <th>4xx_errors</th>\n",
              "      <td>0</td>\n",
              "    </tr>\n",
              "    <tr>\n",
              "      <th>5xx_errors</th>\n",
              "      <td>0</td>\n",
              "    </tr>\n",
              "    <tr>\n",
              "      <th>complaints_count</th>\n",
              "      <td>0</td>\n",
              "    </tr>\n",
              "    <tr>\n",
              "      <th>average_dwelltime</th>\n",
              "      <td>0</td>\n",
              "    </tr>\n",
              "    <tr>\n",
              "      <th>source_attractiveness</th>\n",
              "      <td>0</td>\n",
              "    </tr>\n",
              "    <tr>\n",
              "      <th>date_of_registration</th>\n",
              "      <td>0</td>\n",
              "    </tr>\n",
              "    <tr>\n",
              "      <th>ecom</th>\n",
              "      <td>0</td>\n",
              "    </tr>\n",
              "    <tr>\n",
              "      <th>information_source</th>\n",
              "      <td>0</td>\n",
              "    </tr>\n",
              "    <tr>\n",
              "      <th>news</th>\n",
              "      <td>0</td>\n",
              "    </tr>\n",
              "    <tr>\n",
              "      <th>porn</th>\n",
              "      <td>0</td>\n",
              "    </tr>\n",
              "    <tr>\n",
              "      <th>social</th>\n",
              "      <td>0</td>\n",
              "    </tr>\n",
              "    <tr>\n",
              "      <th>days_since_registration</th>\n",
              "      <td>0</td>\n",
              "    </tr>\n",
              "  </tbody>\n",
              "</table>\n",
              "</div><br><label><b>dtype:</b> int64</label>"
            ]
          },
          "metadata": {},
          "execution_count": 13
        }
      ]
    },
    {
      "cell_type": "code",
      "source": [
        "data.info()"
      ],
      "metadata": {
        "colab": {
          "base_uri": "https://localhost:8080/"
        },
        "id": "OrHiTdwFvuzT",
        "outputId": "2acfd197-361a-4ebd-de23-3e3396170296"
      },
      "id": "OrHiTdwFvuzT",
      "execution_count": 14,
      "outputs": [
        {
          "output_type": "stream",
          "name": "stdout",
          "text": [
            "<class 'pandas.core.frame.DataFrame'>\n",
            "RangeIndex: 8000 entries, 0 to 7999\n",
            "Data columns (total 16 columns):\n",
            " #   Column                   Non-Null Count  Dtype         \n",
            "---  ------                   --------------  -----         \n",
            " 0   Unnamed: 0               8000 non-null   int64         \n",
            " 1   clicks                   8000 non-null   float64       \n",
            " 2   likes                    8000 non-null   float64       \n",
            " 3   buys                     8000 non-null   int64         \n",
            " 4   4xx_errors               8000 non-null   int64         \n",
            " 5   5xx_errors               8000 non-null   int64         \n",
            " 6   complaints_count         8000 non-null   float64       \n",
            " 7   average_dwelltime        8000 non-null   float64       \n",
            " 8   source_attractiveness    8000 non-null   float64       \n",
            " 9   date_of_registration     8000 non-null   datetime64[ns]\n",
            " 10  ecom                     8000 non-null   float64       \n",
            " 11  information_source       8000 non-null   float64       \n",
            " 12  news                     8000 non-null   float64       \n",
            " 13  porn                     8000 non-null   float64       \n",
            " 14  social                   8000 non-null   float64       \n",
            " 15  days_since_registration  8000 non-null   int64         \n",
            "dtypes: datetime64[ns](1), float64(10), int64(5)\n",
            "memory usage: 1000.1 KB\n"
          ]
        }
      ]
    },
    {
      "cell_type": "markdown",
      "source": [
        "Информация не потеряна!"
      ],
      "metadata": {
        "id": "0IA5PT5vvydj"
      },
      "id": "0IA5PT5vvydj"
    },
    {
      "cell_type": "code",
      "source": [
        "data['source_attractiveness'].hist(bins=100)"
      ],
      "metadata": {
        "colab": {
          "base_uri": "https://localhost:8080/",
          "height": 449
        },
        "id": "0PBsovXrc9_d",
        "outputId": "d3d7ebf8-03d4-4336-a264-cfaf79824e4a"
      },
      "id": "0PBsovXrc9_d",
      "execution_count": 15,
      "outputs": [
        {
          "output_type": "execute_result",
          "data": {
            "text/plain": [
              "<Axes: >"
            ]
          },
          "metadata": {},
          "execution_count": 15
        },
        {
          "output_type": "display_data",
          "data": {
            "text/plain": [
              "<Figure size 640x480 with 1 Axes>"
            ],
            "image/png": "[encoded data removed]"
          },
          "metadata": {}
        }
      ]
    },
    {
      "cell_type": "markdown",
      "source": [
        "Распределение довольно близко к нормальному! Эта особенность благоприятна для обучения."
      ],
      "metadata": {
        "id": "Um9xIgX7wte-"
      },
      "id": "Um9xIgX7wte-"
    },
    {
      "cell_type": "code",
      "source": [
        "import matplotlib.pyplot as plt\n",
        "import seaborn as sns"
      ],
      "metadata": {
        "id": "akF1PGq3Bi_2"
      },
      "id": "akF1PGq3Bi_2",
      "execution_count": 16,
      "outputs": []
    },
    {
      "cell_type": "code",
      "source": [
        "data.columns"
      ],
      "metadata": {
        "colab": {
          "base_uri": "https://localhost:8080/"
        },
        "id": "su8hCz6OIo2O",
        "outputId": "69daa626-14e7-457d-9e5e-aff252e84fba"
      },
      "id": "su8hCz6OIo2O",
      "execution_count": 17,
      "outputs": [
        {
          "output_type": "execute_result",
          "data": {
            "text/plain": [
              "Index(['Unnamed: 0', 'clicks', 'likes', 'buys', '4xx_errors', '5xx_errors',\n",
              "       'complaints_count', 'average_dwelltime', 'source_attractiveness',\n",
              "       'date_of_registration', 'ecom', 'information_source', 'news', 'porn',\n",
              "       'social', 'days_since_registration'],\n",
              "      dtype='object')"
            ]
          },
          "metadata": {},
          "execution_count": 17
        }
      ]
    },
    {
      "cell_type": "code",
      "source": [
        "plt.figure(figsize=(12, 8))\n",
        "correlation_matrix = data[['clicks', 'likes', 'buys', '4xx_errors', '5xx_errors',\n",
        "       'complaints_count', 'average_dwelltime', 'ecom', 'information_source', 'news', 'porn',\n",
        "       'social', 'days_since_registration', 'source_attractiveness']].corr()\n",
        "sns.heatmap(correlation_matrix, annot=True, cmap='coolwarm')\n",
        "plt.title('Корреляционная матрица')\n",
        "plt.show()"
      ],
      "metadata": {
        "colab": {
          "base_uri": "https://localhost:8080/",
          "height": 848
        },
        "id": "FcC9fA_rA-WE",
        "outputId": "fe5e5a18-9819-4fb8-e4d7-0cba48e956f3"
      },
      "id": "FcC9fA_rA-WE",
      "execution_count": 18,
      "outputs": [
        {
          "output_type": "display_data",
          "data": {
            "text/plain": [
              "<Figure size 1200x800 with 2 Axes>"
            ],
            "image/png": "[encoded data removed]"
          },
          "metadata": {}
        }
      ]
    },
    {
      "cell_type": "markdown",
      "source": [
        "Из матрицы корреляций видно, что привлекательности больше, если:\n",
        "1. Сайт был создан раньше;\n",
        "2. На нём было совершено больше покупок;\n",
        "3. Это сайт направленности электронной коммерции.\n",
        "\n",
        "В то же время, менее привлекательны сайты:\n",
        "1. С направленностью на информационные ресурсы (включая новости);\n",
        "2. С ошибками 5xx;\n",
        "3. С жалобами.\n",
        "\n",
        "Другие интересные особенности:\n",
        "1. Покупки и лайки, разумеется, тесно связаны с кликами;\n",
        "2. Количество жалоб и ошибок 5xx очень сильно связаны;\n",
        "3. Сайты электронной коммерции имеют потенциал на наибольшее количество кликов, лайков и покупок. Также у них наибольшее количество ошибок: как связанных с клиентом, так и с сервером."
      ],
      "metadata": {
        "id": "AeYVMtiUNpkX"
      },
      "id": "AeYVMtiUNpkX"
    },
    {
      "cell_type": "code",
      "execution_count": 19,
      "id": "60fac8c7-2e13-4626-9dc7-083fd55071bc",
      "metadata": {
        "id": "60fac8c7-2e13-4626-9dc7-083fd55071bc"
      },
      "outputs": [],
      "source": [
        "from sklearn.model_selection import train_test_split\n",
        "from sklearn.linear_model import LinearRegression\n",
        "from sklearn.metrics import mean_squared_error, r2_score"
      ]
    },
    {
      "cell_type": "code",
      "source": [
        "X = data[['clicks', 'likes', 'buys', '4xx_errors', '5xx_errors', 'complaints_count', 'average_dwelltime', 'days_since_registration',\n",
        "          'ecom', 'information_source', 'news', 'porn', 'social']]\n",
        "y = data['source_attractiveness']\n",
        "\n",
        "X_train, X_test, y_train, y_test = train_test_split(X, y, test_size=0.25, random_state=42)\n",
        "\n",
        "model = LinearRegression()\n",
        "model.fit(X_train, y_train)\n",
        "\n",
        "y_pred = model.predict(X_test)"
      ],
      "metadata": {
        "id": "dt3VLSqAXFN1"
      },
      "id": "dt3VLSqAXFN1",
      "execution_count": 20,
      "outputs": []
    },
    {
      "cell_type": "code",
      "source": [
        "mean_squared_error(y_test, y_pred)"
      ],
      "metadata": {
        "id": "nF_cpMoTwW4c",
        "colab": {
          "base_uri": "https://localhost:8080/"
        },
        "outputId": "6817ee56-11d6-498b-ccd6-154effcae056"
      },
      "id": "nF_cpMoTwW4c",
      "execution_count": 21,
      "outputs": [
        {
          "output_type": "execute_result",
          "data": {
            "text/plain": [
              "0.017264273392843334"
            ]
          },
          "metadata": {},
          "execution_count": 21
        }
      ]
    },
    {
      "cell_type": "markdown",
      "source": [
        "Это довольно хороший MSE"
      ],
      "metadata": {
        "id": "GN88hFV9cFxu"
      },
      "id": "GN88hFV9cFxu"
    },
    {
      "cell_type": "code",
      "source": [
        "r2_score(y_test, y_pred)"
      ],
      "metadata": {
        "id": "hpT3O8ZcwY5a",
        "colab": {
          "base_uri": "https://localhost:8080/"
        },
        "outputId": "69018785-b651-4b85-95d5-0aeaa8c2aa42"
      },
      "id": "hpT3O8ZcwY5a",
      "execution_count": 22,
      "outputs": [
        {
          "output_type": "execute_result",
          "data": {
            "text/plain": [
              "0.6910446555317791"
            ]
          },
          "metadata": {},
          "execution_count": 22
        }
      ]
    },
    {
      "cell_type": "markdown",
      "source": [
        "Это довольно хороший R2. Он показывает, что модель объясняет  более двух третей вариации желаемой переменной."
      ],
      "metadata": {
        "id": "gSe-8tst65A9"
      },
      "id": "gSe-8tst65A9"
    },
    {
      "cell_type": "code",
      "source": [
        "model.coef_"
      ],
      "metadata": {
        "id": "5EZj9SgiwZrl",
        "colab": {
          "base_uri": "https://localhost:8080/"
        },
        "outputId": "ad8d84dc-f619-4cd0-d7a9-ecb35511d9cf"
      },
      "id": "5EZj9SgiwZrl",
      "execution_count": 23,
      "outputs": [
        {
          "output_type": "execute_result",
          "data": {
            "text/plain": [
              "array([-1.30132075e-08,  1.93427929e-08,  4.58581349e-08,  2.19676760e-08,\n",
              "       -5.82897897e-07,  2.62878899e-07,  1.87302520e-03,  1.46701184e-04,\n",
              "        1.82577416e-01, -8.43995502e-03, -3.26112886e-02, -8.36058371e-02,\n",
              "       -5.79203351e-02])"
            ]
          },
          "metadata": {},
          "execution_count": 23
        }
      ]
    },
    {
      "cell_type": "code",
      "source": [
        "model.intercept_"
      ],
      "metadata": {
        "colab": {
          "base_uri": "https://localhost:8080/"
        },
        "id": "WyBrkqFOMo12",
        "outputId": "9617afe7-efbc-4f65-ef20-e81cdb397697"
      },
      "id": "WyBrkqFOMo12",
      "execution_count": 24,
      "outputs": [
        {
          "output_type": "execute_result",
          "data": {
            "text/plain": [
              "0.0357560375466732"
            ]
          },
          "metadata": {},
          "execution_count": 24
        }
      ]
    },
    {
      "cell_type": "code",
      "source": [
        "from sklearn.preprocessing import StandardScaler\n",
        "from sklearn.linear_model import Ridge"
      ],
      "metadata": {
        "id": "mZY6Tld7QECM"
      },
      "id": "mZY6Tld7QECM",
      "execution_count": 25,
      "outputs": []
    },
    {
      "cell_type": "markdown",
      "source": [
        "Перед регулированием необходимо стандартизировать данные:"
      ],
      "metadata": {
        "id": "lXwTYt_2P56W"
      },
      "id": "lXwTYt_2P56W"
    },
    {
      "cell_type": "code",
      "source": [
        "scaler = StandardScaler()\n",
        "X_train = scaler.fit_transform(X_train)\n",
        "X_test = scaler.transform(X_test)"
      ],
      "metadata": {
        "id": "htGzWZbnPoXV"
      },
      "id": "htGzWZbnPoXV",
      "execution_count": 26,
      "outputs": []
    },
    {
      "cell_type": "code",
      "source": [
        "X_train\n",
        "X_test"
      ],
      "metadata": {
        "colab": {
          "base_uri": "https://localhost:8080/"
        },
        "id": "WCfVUToxS_NR",
        "outputId": "08654c83-425e-421b-e75d-bcb094f871a3"
      },
      "id": "WCfVUToxS_NR",
      "execution_count": 27,
      "outputs": [
        {
          "output_type": "execute_result",
          "data": {
            "text/plain": [
              "array([[-0.32678418, -0.2974758 , -0.2516569 , ..., -0.33302461,\n",
              "        -0.23102118,  4.3897916 ],\n",
              "       [-0.50552763, -0.2974758 , -0.2516569 , ..., -0.33302461,\n",
              "        -0.23102118,  4.3897916 ],\n",
              "       [ 5.67653002,  3.56727714, -0.2516569 , ..., -0.33302461,\n",
              "        -0.23102118, -0.22780125],\n",
              "       ...,\n",
              "       [-0.45754168, -0.2974758 , -0.2516569 , ..., -0.33302461,\n",
              "        -0.23102118,  4.3897916 ],\n",
              "       [-0.51231589, -0.2974758 , -0.2516569 , ..., -0.33302461,\n",
              "        -0.23102118, -0.22780125],\n",
              "       [-0.22915162, -0.22323893, -0.2516569 , ..., -0.33302461,\n",
              "        -0.23102118, -0.22780125]])"
            ]
          },
          "metadata": {},
          "execution_count": 27
        }
      ]
    },
    {
      "cell_type": "code",
      "source": [
        "ridge = Ridge(alpha=0.1, fit_intercept=True)\n",
        "ridge.fit(X_train, y_train)\n",
        "y_ridge = ridge.predict(X_test)"
      ],
      "metadata": {
        "id": "1tlMPVN5TG6e"
      },
      "id": "1tlMPVN5TG6e",
      "execution_count": 28,
      "outputs": []
    },
    {
      "cell_type": "code",
      "source": [
        "y_ridge"
      ],
      "metadata": {
        "id": "ljQCcCM8XTnT",
        "outputId": "e31c0258-ff17-44be-e436-191c3e111079",
        "colab": {
          "base_uri": "https://localhost:8080/"
        }
      },
      "id": "ljQCcCM8XTnT",
      "execution_count": 29,
      "outputs": [
        {
          "output_type": "execute_result",
          "data": {
            "text/plain": [
              "array([0.09189305, 0.26888396, 0.05786869, ..., 0.04786813, 0.04123474,\n",
              "       0.11527459])"
            ]
          },
          "metadata": {},
          "execution_count": 29
        }
      ]
    },
    {
      "cell_type": "code",
      "source": [
        "ridge.coef_"
      ],
      "metadata": {
        "colab": {
          "base_uri": "https://localhost:8080/"
        },
        "id": "YEZq2wuqWLl7",
        "outputId": "e0766d36-9885-4552-d4ed-f25ba125bb0b"
      },
      "id": "YEZq2wuqWLl7",
      "execution_count": 30,
      "outputs": [
        {
          "output_type": "execute_result",
          "data": {
            "text/plain": [
              "array([-0.06136482,  0.03847912,  0.10530303,  0.00347799, -0.04749502,\n",
              "        0.0041013 ,  0.01831827,  0.10608373,  0.06491431, -0.02507301,\n",
              "       -0.02227927, -0.02748298, -0.02157572])"
            ]
          },
          "metadata": {},
          "execution_count": 30
        }
      ]
    },
    {
      "cell_type": "code",
      "source": [
        "ridge.intercept_"
      ],
      "metadata": {
        "colab": {
          "base_uri": "https://localhost:8080/"
        },
        "id": "_v8ssZASWZNS",
        "outputId": "c4a0883c-4304-462d-b7c9-a9b00c575346"
      },
      "id": "_v8ssZASWZNS",
      "execution_count": 31,
      "outputs": [
        {
          "output_type": "execute_result",
          "data": {
            "text/plain": [
              "0.18882487391206923"
            ]
          },
          "metadata": {},
          "execution_count": 31
        }
      ]
    },
    {
      "cell_type": "code",
      "source": [
        "mean_squared_error(y_test, y_ridge)"
      ],
      "metadata": {
        "colab": {
          "base_uri": "https://localhost:8080/"
        },
        "id": "SeFQdpCjVYsj",
        "outputId": "a5078050-9ee7-45a3-9fce-5ad879de37c9"
      },
      "id": "SeFQdpCjVYsj",
      "execution_count": 32,
      "outputs": [
        {
          "output_type": "execute_result",
          "data": {
            "text/plain": [
              "0.01726435298138852"
            ]
          },
          "metadata": {},
          "execution_count": 32
        }
      ]
    },
    {
      "cell_type": "code",
      "source": [
        "r2_score(y_test, y_ridge)"
      ],
      "metadata": {
        "colab": {
          "base_uri": "https://localhost:8080/"
        },
        "id": "eHSiK-quVDSV",
        "outputId": "331c39f7-a37b-46e3-f63c-fc9f4dc7377a"
      },
      "id": "eHSiK-quVDSV",
      "execution_count": 33,
      "outputs": [
        {
          "output_type": "execute_result",
          "data": {
            "text/plain": [
              "0.6910432312432595"
            ]
          },
          "metadata": {},
          "execution_count": 33
        }
      ]
    },
    {
      "cell_type": "markdown",
      "id": "79d4eca8-bd02-4235-8c50-7bab6f8cfdfc",
      "metadata": {
        "id": "79d4eca8-bd02-4235-8c50-7bab6f8cfdfc"
      },
      "source": [
        "## Final model submit function"
      ]
    },
    {
      "cell_type": "markdown",
      "source": [
        "Скомпилируем предыдущие работы по обучению моделей в один блок:"
      ],
      "metadata": {
        "id": "Oca2gS4qxnhR"
      },
      "id": "Oca2gS4qxnhR"
    },
    {
      "cell_type": "code",
      "source": [
        "data_path = 'train.csv'\n",
        "train_data = pd.read_csv(data_path)\n",
        "\n",
        "encoder = OneHotEncoder(sparse_output=False)\n",
        "encoder.fit(train_data[['category']])\n",
        "onehot_encoded = encoder.transform(train_data[['category']])\n",
        "onehot_df = pd.DataFrame(onehot_encoded, columns=encoder.categories_[0])\n",
        "train_data = train_data.join(onehot_df, lsuffix='old', rsuffix='new')\n",
        "train_data = train_data.drop('category', axis=1)\n",
        "\n",
        "today = pd.to_datetime('today')\n",
        "train_data['date_of_registration'] = pd.to_datetime(train_data['date_of_registration'])\n",
        "train_data['days_since_registration'] = (today - train_data['date_of_registration']).dt.days\n",
        "train_data.drop(columns='date_of_registration')\n",
        "\n",
        "train_data['complaints_count'] = pd.to_numeric(data['complaints_count'], errors='coerce')\n",
        "\n",
        "data.replace('-', np.nan, inplace=True)\n",
        "\n",
        "imputer = KNNImputer(n_neighbors=2)\n",
        "train_data[['clicks', 'likes', 'complaints_count']] = imputer.fit_transform(data[['clicks', 'likes', 'complaints_count']])\n",
        "\n",
        "X_train = train_data[['clicks', 'likes', 'buys', '4xx_errors', '5xx_errors', 'complaints_count', 'average_dwelltime', 'days_since_registration',\n",
        "          'ecom', 'information_source', 'news', 'porn', 'social']]\n",
        "y_train = train_data['source_attractiveness']\n",
        "\n",
        "model = LinearRegression()\n",
        "model.fit(X_train, y_train)\n",
        "\n",
        "scaler = StandardScaler()\n",
        "X_train = scaler.fit_transform(X_train)\n",
        "X_test = scaler.transform(X_test)\n",
        "\n",
        "ridge = Ridge(alpha=0.1, fit_intercept=True)\n",
        "ridge.fit(X_train, y_train)\n",
        "y_ridge = ridge.predict(X_test)"
      ],
      "metadata": {
        "id": "ghUi8AfWVGLh"
      },
      "id": "ghUi8AfWVGLh",
      "execution_count": null,
      "outputs": []
    },
    {
      "cell_type": "code",
      "source": [
        "def predict(data_path):\n",
        "    data = pd.read_csv(data_path)\n",
        "\n",
        "    data_c = data.copy()\n",
        "\n",
        "    encoder = OneHotEncoder(sparse_output=False)\n",
        "    encoder.fit(data_c[['category']])\n",
        "    onehot_encoded = encoder.transform(data_c[['category']])\n",
        "    onehot_df = pd.DataFrame(onehot_encoded, columns=encoder.categories_[0])\n",
        "    data_c = data_c.join(onehot_df, lsuffix='old', rsuffix='new')\n",
        "    data_c = data_c.drop('category', axis=1)\n",
        "\n",
        "    today = pd.to_datetime('today')\n",
        "    data_c['date_of_registration'] = pd.to_datetime(data_c['date_of_registration'])\n",
        "    data_c['days_since_registration'] = (today - data_c['date_of_registration']).dt.days\n",
        "    data_c.drop(columns='date_of_registration')\n",
        "\n",
        "    data_c['complaints_count'] = pd.to_numeric(data_c['complaints_count'], errors='coerce')\n",
        "\n",
        "    data_c.replace('-', np.nan, inplace=True)\n",
        "\n",
        "    imputer = KNNImputer(n_neighbors=2)\n",
        "    data_c[['clicks', 'likes', 'complaints_count']] = imputer.fit_transform(data_c[['clicks', 'likes', 'complaints_count']])\n",
        "\n",
        "    data_c = scaler.transform(data_c)\n",
        "\n",
        "    predictions = ridge.predict(data_c)\n",
        "\n",
        "    data = {\n",
        "        \"source_attractiveness\": predictions\n",
        "    }\n",
        "\n",
        "    submit = pd.DataFrame(data)\n",
        "    submit.to_csv('submission.csv', index_label=\"ID\")"
      ],
      "metadata": {
        "id": "00ozD6p3ibT1"
      },
      "id": "00ozD6p3ibT1",
      "execution_count": null,
      "outputs": []
    },
    {
      "cell_type": "code",
      "source": [
        "predict('test.csv')"
      ],
      "metadata": {
        "id": "_Q7J2llE65LX"
      },
      "id": "_Q7J2llE65LX",
      "execution_count": null,
      "outputs": []
    }
  ],
  "metadata": {
    "kernelspec": {
      "display_name": "MainKernel",
      "language": "python",
      "name": "mainkernel"
    },
    "language_info": {
      "codemirror_mode": {
        "name": "ipython",
        "version": 3
      },
      "file_extension": ".py",
      "mimetype": "text/x-python",
      "name": "python",
      "nbconvert_exporter": "python",
      "pygments_lexer": "ipython3",
      "version": "3.12.5"
    },
    "colab": {
      "provenance": []
    }
  },
  "nbformat": 4,
  "nbformat_minor": 5
}